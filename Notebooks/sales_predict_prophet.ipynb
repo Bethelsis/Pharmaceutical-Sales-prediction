{
 "cells": [
  {
   "cell_type": "code",
   "execution_count": 1,
   "id": "53f39cc0",
   "metadata": {},
   "outputs": [],
   "source": [
    "%load_ext autoreload\n",
    "%autoreload 2"
   ]
  },
  {
   "cell_type": "code",
   "execution_count": 36,
   "id": "39863b95",
   "metadata": {},
   "outputs": [],
   "source": [
    "# import necessary libraries\n",
    "import sys, os\n",
    "import json\n",
    "import requests\n",
    "import time\n",
    "import logging\n",
    "import datetime as dt\n",
    "from datetime import date, timedelta, datetime\n",
    "\n",
    "from itertools import repeat\n",
    "import itertools\n",
    "\n",
    "import numpy as np\n",
    "import pandas as pd\n",
    "import statistics as st\n",
    "import scipy.stats as ss\n",
    "from random import randint\n",
    "\n",
    "import matplotlib.pyplot as plt\n",
    "import seaborn as sns\n",
    "\n",
    "import warnings                        # To ignore any warnings\n",
    "warnings.filterwarnings(\"ignore\")\n",
    "\n",
    "from prophet import Prophet\n",
    "from prophet.plot import add_changepoints_to_plot, plot_cross_validation_metric\n",
    "from prophet.diagnostics import cross_validation, performance_metrics"
   ]
  },
  {
   "cell_type": "code",
   "execution_count": 31,
   "id": "73b18395",
   "metadata": {},
   "outputs": [],
   "source": [
    "#Create and configure logger\n",
    "logging.basicConfig(filename=\"newfile.log\",\n",
    "                    format='%(asctime)s %(message)s',\n",
    "                    filemode='w')"
   ]
  },
  {
   "cell_type": "code",
   "execution_count": 33,
   "id": "bf1f52d8",
   "metadata": {},
   "outputs": [],
   "source": [
    "#Creating an object\n",
    "logger=logging.getLogger()"
   ]
  },
  {
   "cell_type": "code",
   "execution_count": 34,
   "id": "53952dc0",
   "metadata": {},
   "outputs": [],
   "source": [
    "#Setting the threshold of logger to DEBUG\n",
    "logger.setLevel(logging.DEBUG)\n",
    "  "
   ]
  },
  {
   "cell_type": "code",
   "execution_count": 35,
   "id": "42faf5b3",
   "metadata": {},
   "outputs": [],
   "source": [
    "\n",
    "logger.debug(\"Harmless debug Message\")"
   ]
  },
  {
   "cell_type": "code",
   "execution_count": 3,
   "id": "ac95b931",
   "metadata": {},
   "outputs": [
    {
     "name": "stderr",
     "output_type": "stream",
     "text": [
      "/usr/local/lib/python3.8/dist-packages/IPython/core/interactiveshell.py:3169: DtypeWarning: Columns (7) have mixed types.Specify dtype option on import or set low_memory=False.\n",
      "  has_raised = await self.run_ast_nodes(code_ast.body, cell_name,\n"
     ]
    },
    {
     "data": {
      "text/html": [
       "<div>\n",
       "<style scoped>\n",
       "    .dataframe tbody tr th:only-of-type {\n",
       "        vertical-align: middle;\n",
       "    }\n",
       "\n",
       "    .dataframe tbody tr th {\n",
       "        vertical-align: top;\n",
       "    }\n",
       "\n",
       "    .dataframe thead th {\n",
       "        text-align: right;\n",
       "    }\n",
       "</style>\n",
       "<table border=\"1\" class=\"dataframe\">\n",
       "  <thead>\n",
       "    <tr style=\"text-align: right;\">\n",
       "      <th></th>\n",
       "      <th>Store</th>\n",
       "      <th>DayOfWeek</th>\n",
       "      <th>Date</th>\n",
       "      <th>Sales</th>\n",
       "      <th>Customers</th>\n",
       "      <th>Open</th>\n",
       "      <th>Promo</th>\n",
       "      <th>StateHoliday</th>\n",
       "      <th>SchoolHoliday</th>\n",
       "    </tr>\n",
       "  </thead>\n",
       "  <tbody>\n",
       "    <tr>\n",
       "      <th>0</th>\n",
       "      <td>1</td>\n",
       "      <td>5</td>\n",
       "      <td>2015-07-31</td>\n",
       "      <td>5263</td>\n",
       "      <td>555</td>\n",
       "      <td>1</td>\n",
       "      <td>1</td>\n",
       "      <td>0</td>\n",
       "      <td>1</td>\n",
       "    </tr>\n",
       "    <tr>\n",
       "      <th>1</th>\n",
       "      <td>2</td>\n",
       "      <td>5</td>\n",
       "      <td>2015-07-31</td>\n",
       "      <td>6064</td>\n",
       "      <td>625</td>\n",
       "      <td>1</td>\n",
       "      <td>1</td>\n",
       "      <td>0</td>\n",
       "      <td>1</td>\n",
       "    </tr>\n",
       "    <tr>\n",
       "      <th>2</th>\n",
       "      <td>3</td>\n",
       "      <td>5</td>\n",
       "      <td>2015-07-31</td>\n",
       "      <td>8314</td>\n",
       "      <td>821</td>\n",
       "      <td>1</td>\n",
       "      <td>1</td>\n",
       "      <td>0</td>\n",
       "      <td>1</td>\n",
       "    </tr>\n",
       "    <tr>\n",
       "      <th>3</th>\n",
       "      <td>4</td>\n",
       "      <td>5</td>\n",
       "      <td>2015-07-31</td>\n",
       "      <td>13995</td>\n",
       "      <td>1498</td>\n",
       "      <td>1</td>\n",
       "      <td>1</td>\n",
       "      <td>0</td>\n",
       "      <td>1</td>\n",
       "    </tr>\n",
       "    <tr>\n",
       "      <th>4</th>\n",
       "      <td>5</td>\n",
       "      <td>5</td>\n",
       "      <td>2015-07-31</td>\n",
       "      <td>4822</td>\n",
       "      <td>559</td>\n",
       "      <td>1</td>\n",
       "      <td>1</td>\n",
       "      <td>0</td>\n",
       "      <td>1</td>\n",
       "    </tr>\n",
       "  </tbody>\n",
       "</table>\n",
       "</div>"
      ],
      "text/plain": [
       "   Store  DayOfWeek        Date  Sales  Customers  Open  Promo StateHoliday  \\\n",
       "0      1          5  2015-07-31   5263        555     1      1            0   \n",
       "1      2          5  2015-07-31   6064        625     1      1            0   \n",
       "2      3          5  2015-07-31   8314        821     1      1            0   \n",
       "3      4          5  2015-07-31  13995       1498     1      1            0   \n",
       "4      5          5  2015-07-31   4822        559     1      1            0   \n",
       "\n",
       "   SchoolHoliday  \n",
       "0              1  \n",
       "1              1  \n",
       "2              1  \n",
       "3              1  \n",
       "4              1  "
      ]
     },
     "execution_count": 3,
     "metadata": {},
     "output_type": "execute_result"
    }
   ],
   "source": [
    "train_data=pd.read_csv(\"train.csv\")\n",
    "train_data.head()"
   ]
  },
  {
   "cell_type": "code",
   "execution_count": 4,
   "id": "085bade7",
   "metadata": {},
   "outputs": [
    {
     "data": {
      "text/html": [
       "<div>\n",
       "<style scoped>\n",
       "    .dataframe tbody tr th:only-of-type {\n",
       "        vertical-align: middle;\n",
       "    }\n",
       "\n",
       "    .dataframe tbody tr th {\n",
       "        vertical-align: top;\n",
       "    }\n",
       "\n",
       "    .dataframe thead th {\n",
       "        text-align: right;\n",
       "    }\n",
       "</style>\n",
       "<table border=\"1\" class=\"dataframe\">\n",
       "  <thead>\n",
       "    <tr style=\"text-align: right;\">\n",
       "      <th></th>\n",
       "      <th>Id</th>\n",
       "      <th>Store</th>\n",
       "      <th>DayOfWeek</th>\n",
       "      <th>Date</th>\n",
       "      <th>Open</th>\n",
       "      <th>Promo</th>\n",
       "      <th>StateHoliday</th>\n",
       "      <th>SchoolHoliday</th>\n",
       "    </tr>\n",
       "  </thead>\n",
       "  <tbody>\n",
       "    <tr>\n",
       "      <th>0</th>\n",
       "      <td>1</td>\n",
       "      <td>1</td>\n",
       "      <td>4</td>\n",
       "      <td>2015-09-17</td>\n",
       "      <td>1.0</td>\n",
       "      <td>1</td>\n",
       "      <td>0</td>\n",
       "      <td>0</td>\n",
       "    </tr>\n",
       "    <tr>\n",
       "      <th>1</th>\n",
       "      <td>2</td>\n",
       "      <td>3</td>\n",
       "      <td>4</td>\n",
       "      <td>2015-09-17</td>\n",
       "      <td>1.0</td>\n",
       "      <td>1</td>\n",
       "      <td>0</td>\n",
       "      <td>0</td>\n",
       "    </tr>\n",
       "    <tr>\n",
       "      <th>2</th>\n",
       "      <td>3</td>\n",
       "      <td>7</td>\n",
       "      <td>4</td>\n",
       "      <td>2015-09-17</td>\n",
       "      <td>1.0</td>\n",
       "      <td>1</td>\n",
       "      <td>0</td>\n",
       "      <td>0</td>\n",
       "    </tr>\n",
       "    <tr>\n",
       "      <th>3</th>\n",
       "      <td>4</td>\n",
       "      <td>8</td>\n",
       "      <td>4</td>\n",
       "      <td>2015-09-17</td>\n",
       "      <td>1.0</td>\n",
       "      <td>1</td>\n",
       "      <td>0</td>\n",
       "      <td>0</td>\n",
       "    </tr>\n",
       "    <tr>\n",
       "      <th>4</th>\n",
       "      <td>5</td>\n",
       "      <td>9</td>\n",
       "      <td>4</td>\n",
       "      <td>2015-09-17</td>\n",
       "      <td>1.0</td>\n",
       "      <td>1</td>\n",
       "      <td>0</td>\n",
       "      <td>0</td>\n",
       "    </tr>\n",
       "  </tbody>\n",
       "</table>\n",
       "</div>"
      ],
      "text/plain": [
       "   Id  Store  DayOfWeek        Date  Open  Promo StateHoliday  SchoolHoliday\n",
       "0   1      1          4  2015-09-17   1.0      1            0              0\n",
       "1   2      3          4  2015-09-17   1.0      1            0              0\n",
       "2   3      7          4  2015-09-17   1.0      1            0              0\n",
       "3   4      8          4  2015-09-17   1.0      1            0              0\n",
       "4   5      9          4  2015-09-17   1.0      1            0              0"
      ]
     },
     "execution_count": 4,
     "metadata": {},
     "output_type": "execute_result"
    }
   ],
   "source": [
    "test_data=pd.read_csv(\"test.csv\")\n",
    "test_data.head()"
   ]
  },
  {
   "cell_type": "code",
   "execution_count": 5,
   "id": "f1e6d7cf",
   "metadata": {},
   "outputs": [
    {
     "data": {
      "text/html": [
       "<div>\n",
       "<style scoped>\n",
       "    .dataframe tbody tr th:only-of-type {\n",
       "        vertical-align: middle;\n",
       "    }\n",
       "\n",
       "    .dataframe tbody tr th {\n",
       "        vertical-align: top;\n",
       "    }\n",
       "\n",
       "    .dataframe thead th {\n",
       "        text-align: right;\n",
       "    }\n",
       "</style>\n",
       "<table border=\"1\" class=\"dataframe\">\n",
       "  <thead>\n",
       "    <tr style=\"text-align: right;\">\n",
       "      <th></th>\n",
       "      <th>Store</th>\n",
       "      <th>StoreType</th>\n",
       "      <th>Assortment</th>\n",
       "      <th>CompetitionDistance</th>\n",
       "      <th>CompetitionOpenSinceMonth</th>\n",
       "      <th>CompetitionOpenSinceYear</th>\n",
       "      <th>Promo2</th>\n",
       "      <th>Promo2SinceWeek</th>\n",
       "      <th>Promo2SinceYear</th>\n",
       "      <th>PromoInterval</th>\n",
       "    </tr>\n",
       "  </thead>\n",
       "  <tbody>\n",
       "    <tr>\n",
       "      <th>0</th>\n",
       "      <td>1</td>\n",
       "      <td>c</td>\n",
       "      <td>a</td>\n",
       "      <td>1270.0</td>\n",
       "      <td>9.0</td>\n",
       "      <td>2008.0</td>\n",
       "      <td>0</td>\n",
       "      <td>NaN</td>\n",
       "      <td>NaN</td>\n",
       "      <td>NaN</td>\n",
       "    </tr>\n",
       "    <tr>\n",
       "      <th>1</th>\n",
       "      <td>2</td>\n",
       "      <td>a</td>\n",
       "      <td>a</td>\n",
       "      <td>570.0</td>\n",
       "      <td>11.0</td>\n",
       "      <td>2007.0</td>\n",
       "      <td>1</td>\n",
       "      <td>13.0</td>\n",
       "      <td>2010.0</td>\n",
       "      <td>Jan,Apr,Jul,Oct</td>\n",
       "    </tr>\n",
       "    <tr>\n",
       "      <th>2</th>\n",
       "      <td>3</td>\n",
       "      <td>a</td>\n",
       "      <td>a</td>\n",
       "      <td>14130.0</td>\n",
       "      <td>12.0</td>\n",
       "      <td>2006.0</td>\n",
       "      <td>1</td>\n",
       "      <td>14.0</td>\n",
       "      <td>2011.0</td>\n",
       "      <td>Jan,Apr,Jul,Oct</td>\n",
       "    </tr>\n",
       "    <tr>\n",
       "      <th>3</th>\n",
       "      <td>4</td>\n",
       "      <td>c</td>\n",
       "      <td>c</td>\n",
       "      <td>620.0</td>\n",
       "      <td>9.0</td>\n",
       "      <td>2009.0</td>\n",
       "      <td>0</td>\n",
       "      <td>NaN</td>\n",
       "      <td>NaN</td>\n",
       "      <td>NaN</td>\n",
       "    </tr>\n",
       "    <tr>\n",
       "      <th>4</th>\n",
       "      <td>5</td>\n",
       "      <td>a</td>\n",
       "      <td>a</td>\n",
       "      <td>29910.0</td>\n",
       "      <td>4.0</td>\n",
       "      <td>2015.0</td>\n",
       "      <td>0</td>\n",
       "      <td>NaN</td>\n",
       "      <td>NaN</td>\n",
       "      <td>NaN</td>\n",
       "    </tr>\n",
       "  </tbody>\n",
       "</table>\n",
       "</div>"
      ],
      "text/plain": [
       "   Store StoreType Assortment  CompetitionDistance  CompetitionOpenSinceMonth  \\\n",
       "0      1         c          a               1270.0                        9.0   \n",
       "1      2         a          a                570.0                       11.0   \n",
       "2      3         a          a              14130.0                       12.0   \n",
       "3      4         c          c                620.0                        9.0   \n",
       "4      5         a          a              29910.0                        4.0   \n",
       "\n",
       "   CompetitionOpenSinceYear  Promo2  Promo2SinceWeek  Promo2SinceYear  \\\n",
       "0                    2008.0       0              NaN              NaN   \n",
       "1                    2007.0       1             13.0           2010.0   \n",
       "2                    2006.0       1             14.0           2011.0   \n",
       "3                    2009.0       0              NaN              NaN   \n",
       "4                    2015.0       0              NaN              NaN   \n",
       "\n",
       "     PromoInterval  \n",
       "0              NaN  \n",
       "1  Jan,Apr,Jul,Oct  \n",
       "2  Jan,Apr,Jul,Oct  \n",
       "3              NaN  \n",
       "4              NaN  "
      ]
     },
     "execution_count": 5,
     "metadata": {},
     "output_type": "execute_result"
    }
   ],
   "source": [
    "store_data=pd.read_csv(\"store.csv\")\n",
    "store_data.head()"
   ]
  },
  {
   "cell_type": "markdown",
   "id": "2f900e22",
   "metadata": {},
   "source": [
    "#### Glance the data"
   ]
  },
  {
   "cell_type": "code",
   "execution_count": 6,
   "id": "857255dd",
   "metadata": {},
   "outputs": [
    {
     "name": "stdout",
     "output_type": "stream",
     "text": [
      "shape of the  store data:  (1115, 10)\n",
      "<class 'pandas.core.frame.DataFrame'>\n",
      "RangeIndex: 1115 entries, 0 to 1114\n",
      "Data columns (total 10 columns):\n",
      " #   Column                     Non-Null Count  Dtype  \n",
      "---  ------                     --------------  -----  \n",
      " 0   Store                      1115 non-null   int64  \n",
      " 1   StoreType                  1115 non-null   object \n",
      " 2   Assortment                 1115 non-null   object \n",
      " 3   CompetitionDistance        1112 non-null   float64\n",
      " 4   CompetitionOpenSinceMonth  761 non-null    float64\n",
      " 5   CompetitionOpenSinceYear   761 non-null    float64\n",
      " 6   Promo2                     1115 non-null   int64  \n",
      " 7   Promo2SinceWeek            571 non-null    float64\n",
      " 8   Promo2SinceYear            571 non-null    float64\n",
      " 9   PromoInterval              571 non-null    object \n",
      "dtypes: float64(5), int64(2), object(3)\n",
      "memory usage: 87.2+ KB\n",
      "None\n"
     ]
    }
   ],
   "source": [
    "print(\"shape of the  store data: \",store_data.shape)\n",
    "print(store_data.info())"
   ]
  },
  {
   "cell_type": "code",
   "execution_count": 7,
   "id": "f3138631",
   "metadata": {},
   "outputs": [
    {
     "name": "stdout",
     "output_type": "stream",
     "text": [
      "shape of the  train data:  (1017209, 9)\n",
      "Store             1115\n",
      "DayOfWeek            7\n",
      "Date               942\n",
      "Sales            21734\n",
      "Customers         4086\n",
      "Open                 2\n",
      "Promo                2\n",
      "StateHoliday         5\n",
      "SchoolHoliday        2\n",
      "dtype: int64\n"
     ]
    }
   ],
   "source": [
    "print(\"shape of the  train data: \",train_data.shape)\n",
    "print(train_data.nunique())"
   ]
  },
  {
   "cell_type": "markdown",
   "id": "f7d4fb6c",
   "metadata": {},
   "source": [
    "### Data cleaning"
   ]
  },
  {
   "cell_type": "code",
   "execution_count": 8,
   "id": "38f6ad6d",
   "metadata": {},
   "outputs": [
    {
     "name": "stderr",
     "output_type": "stream",
     "text": [
      "<ipython-input-8-5c60cb764668>:6: FutureWarning: Series.dt.weekofyear and Series.dt.week have been deprecated.  Please use Series.dt.isocalendar().week instead.\n",
      "  train_data['WeekOfYear'] = train_data['Date'].dt.weekofyear\n"
     ]
    },
    {
     "data": {
      "text/html": [
       "<div>\n",
       "<style scoped>\n",
       "    .dataframe tbody tr th:only-of-type {\n",
       "        vertical-align: middle;\n",
       "    }\n",
       "\n",
       "    .dataframe tbody tr th {\n",
       "        vertical-align: top;\n",
       "    }\n",
       "\n",
       "    .dataframe thead th {\n",
       "        text-align: right;\n",
       "    }\n",
       "</style>\n",
       "<table border=\"1\" class=\"dataframe\">\n",
       "  <thead>\n",
       "    <tr style=\"text-align: right;\">\n",
       "      <th></th>\n",
       "      <th>Store</th>\n",
       "      <th>DayOfWeek</th>\n",
       "      <th>Date</th>\n",
       "      <th>Sales</th>\n",
       "      <th>Customers</th>\n",
       "      <th>Open</th>\n",
       "      <th>Promo</th>\n",
       "      <th>StateHoliday</th>\n",
       "      <th>SchoolHoliday</th>\n",
       "      <th>Year</th>\n",
       "      <th>Month</th>\n",
       "      <th>Day</th>\n",
       "      <th>WeekOfYear</th>\n",
       "    </tr>\n",
       "  </thead>\n",
       "  <tbody>\n",
       "    <tr>\n",
       "      <th>0</th>\n",
       "      <td>1</td>\n",
       "      <td>5</td>\n",
       "      <td>2015-07-31</td>\n",
       "      <td>5263</td>\n",
       "      <td>555</td>\n",
       "      <td>1</td>\n",
       "      <td>1</td>\n",
       "      <td>0</td>\n",
       "      <td>1</td>\n",
       "      <td>2015</td>\n",
       "      <td>7</td>\n",
       "      <td>31</td>\n",
       "      <td>31</td>\n",
       "    </tr>\n",
       "    <tr>\n",
       "      <th>1</th>\n",
       "      <td>2</td>\n",
       "      <td>5</td>\n",
       "      <td>2015-07-31</td>\n",
       "      <td>6064</td>\n",
       "      <td>625</td>\n",
       "      <td>1</td>\n",
       "      <td>1</td>\n",
       "      <td>0</td>\n",
       "      <td>1</td>\n",
       "      <td>2015</td>\n",
       "      <td>7</td>\n",
       "      <td>31</td>\n",
       "      <td>31</td>\n",
       "    </tr>\n",
       "    <tr>\n",
       "      <th>2</th>\n",
       "      <td>3</td>\n",
       "      <td>5</td>\n",
       "      <td>2015-07-31</td>\n",
       "      <td>8314</td>\n",
       "      <td>821</td>\n",
       "      <td>1</td>\n",
       "      <td>1</td>\n",
       "      <td>0</td>\n",
       "      <td>1</td>\n",
       "      <td>2015</td>\n",
       "      <td>7</td>\n",
       "      <td>31</td>\n",
       "      <td>31</td>\n",
       "    </tr>\n",
       "    <tr>\n",
       "      <th>3</th>\n",
       "      <td>4</td>\n",
       "      <td>5</td>\n",
       "      <td>2015-07-31</td>\n",
       "      <td>13995</td>\n",
       "      <td>1498</td>\n",
       "      <td>1</td>\n",
       "      <td>1</td>\n",
       "      <td>0</td>\n",
       "      <td>1</td>\n",
       "      <td>2015</td>\n",
       "      <td>7</td>\n",
       "      <td>31</td>\n",
       "      <td>31</td>\n",
       "    </tr>\n",
       "    <tr>\n",
       "      <th>4</th>\n",
       "      <td>5</td>\n",
       "      <td>5</td>\n",
       "      <td>2015-07-31</td>\n",
       "      <td>4822</td>\n",
       "      <td>559</td>\n",
       "      <td>1</td>\n",
       "      <td>1</td>\n",
       "      <td>0</td>\n",
       "      <td>1</td>\n",
       "      <td>2015</td>\n",
       "      <td>7</td>\n",
       "      <td>31</td>\n",
       "      <td>31</td>\n",
       "    </tr>\n",
       "  </tbody>\n",
       "</table>\n",
       "</div>"
      ],
      "text/plain": [
       "   Store  DayOfWeek       Date  Sales  Customers  Open  Promo StateHoliday  \\\n",
       "0      1          5 2015-07-31   5263        555     1      1            0   \n",
       "1      2          5 2015-07-31   6064        625     1      1            0   \n",
       "2      3          5 2015-07-31   8314        821     1      1            0   \n",
       "3      4          5 2015-07-31  13995       1498     1      1            0   \n",
       "4      5          5 2015-07-31   4822        559     1      1            0   \n",
       "\n",
       "   SchoolHoliday  Year  Month  Day  WeekOfYear  \n",
       "0              1  2015      7   31          31  \n",
       "1              1  2015      7   31          31  \n",
       "2              1  2015      7   31          31  \n",
       "3              1  2015      7   31          31  \n",
       "4              1  2015      7   31          31  "
      ]
     },
     "execution_count": 8,
     "metadata": {},
     "output_type": "execute_result"
    }
   ],
   "source": [
    "#data extraction\n",
    "train_data['Date'] = pd.to_datetime(train_data['Date'])\n",
    "train_data['Year'] = train_data['Date'].dt.year\n",
    "train_data['Month'] = train_data['Date'].dt.month\n",
    "train_data['Day'] = train_data['Date'].dt.day\n",
    "train_data['WeekOfYear'] = train_data['Date'].dt.weekofyear\n",
    "train_data.head()\n"
   ]
  },
  {
   "cell_type": "code",
   "execution_count": 9,
   "id": "699838a4",
   "metadata": {},
   "outputs": [
    {
     "data": {
      "text/plain": [
       "False"
      ]
     },
     "execution_count": 9,
     "metadata": {},
     "output_type": "execute_result"
    }
   ],
   "source": [
    "# impute the missing value in test data\n",
    "test_data['Open'].fillna(test_data['Open'].mode, inplace = True)\n",
    "test_data.isnull().values.any()"
   ]
  },
  {
   "cell_type": "code",
   "execution_count": 10,
   "id": "13185d24",
   "metadata": {},
   "outputs": [
    {
     "data": {
      "text/plain": [
       "Store            172817\n",
       "DayOfWeek        172817\n",
       "Date             172817\n",
       "Sales            172817\n",
       "Customers        172817\n",
       "Open             172817\n",
       "Promo            172817\n",
       "StateHoliday     172817\n",
       "SchoolHoliday    172817\n",
       "Year             172817\n",
       "Month            172817\n",
       "Day              172817\n",
       "WeekOfYear       172817\n",
       "dtype: int64"
      ]
     },
     "execution_count": 10,
     "metadata": {},
     "output_type": "execute_result"
    }
   ],
   "source": [
    "# closed stores\n",
    "train_data[(train_data.Open == 0) & (train_data.Sales == 0)].count()"
   ]
  },
  {
   "cell_type": "code",
   "execution_count": 11,
   "id": "e4dbfcc3",
   "metadata": {},
   "outputs": [
    {
     "name": "stdout",
     "output_type": "stream",
     "text": [
      "(1017209, 13)\n",
      "(844392, 13)\n"
     ]
    }
   ],
   "source": [
    "\n",
    "print(train_data.shape)\n",
    "closed_stores = train_data[(train_data['Open'] == 0) & (train_data['Sales'] == 0)].index\n",
    "train_data.drop(closed_stores,inplace = True)\n",
    "print(train_data.shape)\n"
   ]
  },
  {
   "cell_type": "code",
   "execution_count": 12,
   "id": "e4bc5f59",
   "metadata": {},
   "outputs": [
    {
     "data": {
      "text/plain": [
       "49"
      ]
     },
     "execution_count": 12,
     "metadata": {},
     "output_type": "execute_result"
    }
   ],
   "source": [
    "open_no_sale = train_data[(train_data[\"Open\"] != 0) & (train_data['Sales'] == 0)].index\n",
    "train_data[(train_data[\"Open\"] != 0) & (train_data['Sales'] == 0)]['Date'].nunique()"
   ]
  },
  {
   "cell_type": "code",
   "execution_count": 13,
   "id": "6bbb1246",
   "metadata": {},
   "outputs": [
    {
     "data": {
      "text/plain": [
       "(844338, 13)"
      ]
     },
     "execution_count": 13,
     "metadata": {},
     "output_type": "execute_result"
    }
   ],
   "source": [
    "train_data.drop(open_no_sale,inplace = True)\n",
    "train_data.shape"
   ]
  },
  {
   "cell_type": "code",
   "execution_count": 14,
   "id": "b3435799",
   "metadata": {},
   "outputs": [
    {
     "name": "stdout",
     "output_type": "stream",
     "text": [
      "exceptional stores that has opened during state holidays: 1115\n"
     ]
    }
   ],
   "source": [
    "\n",
    "\n",
    "store_exc = train_data[(train_data[\"StateHoliday\"] != \"o\") \n",
    "        & (train_data[\"Sales\"] != 0)][\"Store\"].nunique()\n",
    "print(\"exceptional stores that has opened during state holidays:\",store_exc)"
   ]
  },
  {
   "cell_type": "code",
   "execution_count": 15,
   "id": "0e9ebf90",
   "metadata": {},
   "outputs": [
    {
     "data": {
      "text/plain": [
       "Store                          0\n",
       "StoreType                      0\n",
       "Assortment                     0\n",
       "CompetitionDistance            3\n",
       "CompetitionOpenSinceMonth    354\n",
       "CompetitionOpenSinceYear     354\n",
       "Promo2                         0\n",
       "Promo2SinceWeek              544\n",
       "Promo2SinceYear              544\n",
       "PromoInterval                544\n",
       "dtype: int64"
      ]
     },
     "execution_count": 15,
     "metadata": {},
     "output_type": "execute_result"
    }
   ],
   "source": [
    "store_data.isnull().sum()"
   ]
  },
  {
   "cell_type": "code",
   "execution_count": 16,
   "id": "4cfa45f5",
   "metadata": {},
   "outputs": [],
   "source": [
    "\n",
    "store_data['CompetitionDistance'].fillna(store_data['CompetitionDistance'].median(), inplace = True)"
   ]
  },
  {
   "cell_type": "code",
   "execution_count": 17,
   "id": "83a2c641",
   "metadata": {},
   "outputs": [
    {
     "data": {
      "text/plain": [
       "False"
      ]
     },
     "execution_count": 17,
     "metadata": {},
     "output_type": "execute_result"
    }
   ],
   "source": [
    "\n",
    "store_data['CompetitionOpenSinceMonth'].fillna(store_data['CompetitionOpenSinceMonth'].mode, inplace = True)\n",
    "store_data['CompetitionOpenSinceYear'].fillna(store_data['CompetitionOpenSinceYear'].mode, inplace = True)\n",
    "store_data['Promo2SinceWeek'].fillna(store_data['Promo2SinceWeek'].mode, inplace = True)\n",
    "store_data['Promo2SinceYear'].fillna(store_data['Promo2SinceYear'].mode, inplace = True)\n",
    "store_data['PromoInterval'].fillna(store_data['PromoInterval'].mode, inplace = True)\n",
    "store_data.isnull().values.any()"
   ]
  },
  {
   "cell_type": "code",
   "execution_count": 18,
   "id": "c88ada13",
   "metadata": {},
   "outputs": [
    {
     "name": "stdout",
     "output_type": "stream",
     "text": [
      "Joining train set with an additional store information.\n"
     ]
    }
   ],
   "source": [
    "print(\"Joining train set with an additional store information.\")\n",
    "train_store = pd.merge(train_data, store_data, how = 'inner', on = 'Store')"
   ]
  },
  {
   "cell_type": "code",
   "execution_count": 20,
   "id": "ece9fe0b",
   "metadata": {},
   "outputs": [
    {
     "data": {
      "text/plain": [
       "(844338, 22)"
      ]
     },
     "execution_count": 20,
     "metadata": {},
     "output_type": "execute_result"
    }
   ],
   "source": [
    "train_store.shape"
   ]
  },
  {
   "cell_type": "code",
   "execution_count": 22,
   "id": "a49679e4",
   "metadata": {},
   "outputs": [
    {
     "data": {
      "text/html": [
       "<div>\n",
       "<style scoped>\n",
       "    .dataframe tbody tr th:only-of-type {\n",
       "        vertical-align: middle;\n",
       "    }\n",
       "\n",
       "    .dataframe tbody tr th {\n",
       "        vertical-align: top;\n",
       "    }\n",
       "\n",
       "    .dataframe thead th {\n",
       "        text-align: right;\n",
       "    }\n",
       "</style>\n",
       "<table border=\"1\" class=\"dataframe\">\n",
       "  <thead>\n",
       "    <tr style=\"text-align: right;\">\n",
       "      <th></th>\n",
       "      <th>count</th>\n",
       "      <th>mean</th>\n",
       "      <th>std</th>\n",
       "      <th>min</th>\n",
       "      <th>25%</th>\n",
       "      <th>50%</th>\n",
       "      <th>75%</th>\n",
       "      <th>max</th>\n",
       "    </tr>\n",
       "    <tr>\n",
       "      <th>StoreType</th>\n",
       "      <th></th>\n",
       "      <th></th>\n",
       "      <th></th>\n",
       "      <th></th>\n",
       "      <th></th>\n",
       "      <th></th>\n",
       "      <th></th>\n",
       "      <th></th>\n",
       "    </tr>\n",
       "  </thead>\n",
       "  <tbody>\n",
       "    <tr>\n",
       "      <th>a</th>\n",
       "      <td>457042.0</td>\n",
       "      <td>6925.697986</td>\n",
       "      <td>3277.351589</td>\n",
       "      <td>46.0</td>\n",
       "      <td>4695.25</td>\n",
       "      <td>6285.0</td>\n",
       "      <td>8406.00</td>\n",
       "      <td>41551.0</td>\n",
       "    </tr>\n",
       "    <tr>\n",
       "      <th>b</th>\n",
       "      <td>15560.0</td>\n",
       "      <td>10233.380141</td>\n",
       "      <td>5155.729868</td>\n",
       "      <td>1252.0</td>\n",
       "      <td>6345.75</td>\n",
       "      <td>9130.0</td>\n",
       "      <td>13184.25</td>\n",
       "      <td>38722.0</td>\n",
       "    </tr>\n",
       "    <tr>\n",
       "      <th>c</th>\n",
       "      <td>112968.0</td>\n",
       "      <td>6933.126425</td>\n",
       "      <td>2896.958579</td>\n",
       "      <td>133.0</td>\n",
       "      <td>4916.00</td>\n",
       "      <td>6408.0</td>\n",
       "      <td>8349.25</td>\n",
       "      <td>31448.0</td>\n",
       "    </tr>\n",
       "    <tr>\n",
       "      <th>d</th>\n",
       "      <td>258768.0</td>\n",
       "      <td>6822.300064</td>\n",
       "      <td>2556.401455</td>\n",
       "      <td>538.0</td>\n",
       "      <td>5050.00</td>\n",
       "      <td>6395.0</td>\n",
       "      <td>8123.25</td>\n",
       "      <td>38037.0</td>\n",
       "    </tr>\n",
       "  </tbody>\n",
       "</table>\n",
       "</div>"
      ],
      "text/plain": [
       "              count          mean          std     min      25%     50%  \\\n",
       "StoreType                                                                 \n",
       "a          457042.0   6925.697986  3277.351589    46.0  4695.25  6285.0   \n",
       "b           15560.0  10233.380141  5155.729868  1252.0  6345.75  9130.0   \n",
       "c          112968.0   6933.126425  2896.958579   133.0  4916.00  6408.0   \n",
       "d          258768.0   6822.300064  2556.401455   538.0  5050.00  6395.0   \n",
       "\n",
       "                75%      max  \n",
       "StoreType                     \n",
       "a           8406.00  41551.0  \n",
       "b          13184.25  38722.0  \n",
       "c           8349.25  31448.0  \n",
       "d           8123.25  38037.0  "
      ]
     },
     "execution_count": 22,
     "metadata": {},
     "output_type": "execute_result"
    }
   ],
   "source": [
    "train_store.groupby('StoreType')['Sales'].describe()"
   ]
  },
  {
   "cell_type": "code",
   "execution_count": 23,
   "id": "a3d23b7f",
   "metadata": {},
   "outputs": [
    {
     "name": "stderr",
     "output_type": "stream",
     "text": [
      "<ipython-input-23-af76e138c0b0>:1: FutureWarning: Indexing with multiple keys (implicitly converted to a tuple of keys) will be deprecated, use a list instead.\n",
      "  train_store.groupby('StoreType')['Customers', 'Sales'].sum()\n"
     ]
    },
    {
     "data": {
      "text/html": [
       "<div>\n",
       "<style scoped>\n",
       "    .dataframe tbody tr th:only-of-type {\n",
       "        vertical-align: middle;\n",
       "    }\n",
       "\n",
       "    .dataframe tbody tr th {\n",
       "        vertical-align: top;\n",
       "    }\n",
       "\n",
       "    .dataframe thead th {\n",
       "        text-align: right;\n",
       "    }\n",
       "</style>\n",
       "<table border=\"1\" class=\"dataframe\">\n",
       "  <thead>\n",
       "    <tr style=\"text-align: right;\">\n",
       "      <th></th>\n",
       "      <th>Customers</th>\n",
       "      <th>Sales</th>\n",
       "    </tr>\n",
       "    <tr>\n",
       "      <th>StoreType</th>\n",
       "      <th></th>\n",
       "      <th></th>\n",
       "    </tr>\n",
       "  </thead>\n",
       "  <tbody>\n",
       "    <tr>\n",
       "      <th>a</th>\n",
       "      <td>363541431</td>\n",
       "      <td>3165334859</td>\n",
       "    </tr>\n",
       "    <tr>\n",
       "      <th>b</th>\n",
       "      <td>31465616</td>\n",
       "      <td>159231395</td>\n",
       "    </tr>\n",
       "    <tr>\n",
       "      <th>c</th>\n",
       "      <td>92129705</td>\n",
       "      <td>783221426</td>\n",
       "    </tr>\n",
       "    <tr>\n",
       "      <th>d</th>\n",
       "      <td>156904995</td>\n",
       "      <td>1765392943</td>\n",
       "    </tr>\n",
       "  </tbody>\n",
       "</table>\n",
       "</div>"
      ],
      "text/plain": [
       "           Customers       Sales\n",
       "StoreType                       \n",
       "a          363541431  3165334859\n",
       "b           31465616   159231395\n",
       "c           92129705   783221426\n",
       "d          156904995  1765392943"
      ]
     },
     "execution_count": 23,
     "metadata": {},
     "output_type": "execute_result"
    }
   ],
   "source": [
    "train_store.groupby('StoreType')['Customers', 'Sales'].sum()"
   ]
  },
  {
   "cell_type": "code",
   "execution_count": 29,
   "id": "86609d63",
   "metadata": {},
   "outputs": [
    {
     "data": {
      "image/png": "[encoded data removed]",
      "text/plain": [
       "<Figure size 1152x1008 with 2 Axes>"
      ]
     },
     "metadata": {
      "needs_background": "light"
     },
     "output_type": "display_data"
    }
   ],
   "source": [
    "#correlation matrix\n",
    "corrMatrix= train_store.drop('Open', axis = 1).corr()\n",
    "f, ax = plt.subplots(figsize=(16, 14))\n",
    "res=sns.heatmap(corrMatrix,cmap=\"Blues\",annot=True,fmt='.4f',annot_kws={\"size\":12})\n",
    "res.set_xticklabels(res.get_xmajorticklabels(), fontsize = 12)\n",
    "res.set_yticklabels(res.get_ymajorticklabels(), fontsize = 12)\n",
    "plt.show()"
   ]
  },
  {
   "cell_type": "code",
   "execution_count": null,
   "id": "aed3e0d8",
   "metadata": {},
   "outputs": [],
   "source": []
  },
  {
   "cell_type": "code",
   "execution_count": null,
   "id": "c6abe40c",
   "metadata": {},
   "outputs": [],
   "source": []
  },
  {
   "cell_type": "code",
   "execution_count": null,
   "id": "95485780",
   "metadata": {},
   "outputs": [],
   "source": []
  },
  {
   "cell_type": "code",
   "execution_count": null,
   "id": "9dc531d6",
   "metadata": {},
   "outputs": [],
   "source": []
  },
  {
   "cell_type": "code",
   "execution_count": null,
   "id": "3f601426",
   "metadata": {},
   "outputs": [],
   "source": []
  },
  {
   "cell_type": "code",
   "execution_count": null,
   "id": "fe3452f2",
   "metadata": {},
   "outputs": [],
   "source": []
  },
  {
   "cell_type": "code",
   "execution_count": null,
   "id": "336c3bfe",
   "metadata": {},
   "outputs": [],
   "source": []
  },
  {
   "cell_type": "code",
   "execution_count": null,
   "id": "5d1c5c76",
   "metadata": {},
   "outputs": [],
   "source": []
  },
  {
   "cell_type": "code",
   "execution_count": null,
   "id": "a320fe87",
   "metadata": {},
   "outputs": [],
   "source": []
  },
  {
   "cell_type": "code",
   "execution_count": null,
   "id": "d3cd134c",
   "metadata": {},
   "outputs": [],
   "source": []
  },
  {
   "cell_type": "code",
   "execution_count": null,
   "id": "c0eb7114",
   "metadata": {},
   "outputs": [],
   "source": []
  },
  {
   "cell_type": "code",
   "execution_count": null,
   "id": "f429f35f",
   "metadata": {},
   "outputs": [],
   "source": []
  },
  {
   "cell_type": "code",
   "execution_count": null,
   "id": "6758164f",
   "metadata": {},
   "outputs": [],
   "source": []
  },
  {
   "cell_type": "code",
   "execution_count": null,
   "id": "fde9670a",
   "metadata": {},
   "outputs": [],
   "source": []
  },
  {
   "cell_type": "code",
   "execution_count": null,
   "id": "e3a26d70",
   "metadata": {},
   "outputs": [],
   "source": []
  },
  {
   "cell_type": "code",
   "execution_count": null,
   "id": "1b042eb4",
   "metadata": {},
   "outputs": [],
   "source": []
  },
  {
   "cell_type": "code",
   "execution_count": null,
   "id": "219cb528",
   "metadata": {},
   "outputs": [],
   "source": []
  },
  {
   "cell_type": "code",
   "execution_count": null,
   "id": "1052d411",
   "metadata": {},
   "outputs": [],
   "source": [
    "class FetchPrepareData():\n",
    "    def __init__(self):\n",
    "        self.dfdict = {}\n",
    "        self.dfdict['train'] = self.get_train_data()\n",
    "        self.dfdict['test'] = self.get_test_data()\n",
    "        self.dfdict['sample'] = self.get_sample_data()\n",
    "        self.dfdict['store'] = self.get_store_data()\n",
    "        \n",
    "    def get_train_data(self,name='train'):\n",
    "        filename = f'data/{name}.csv'        \n",
    "        return pd.read_csv(filename)\n",
    "    \n",
    "    def get_test_data(self,name='test'):\n",
    "        filename = f'data/{name}.csv'        \n",
    "        return pd.read_csv(filename)\n",
    "        \n",
    "    def get_store_data(self,name='store'):\n",
    "        filename = f'data/{name}.csv'        \n",
    "        return pd.read_csv(filename)  \n",
    "    \n",
    "    def get_sample_data(self,name='sample_submission'):\n",
    "        filename = f'data/{name}.csv'        \n",
    "        return pd.read_csv(filename)  \n",
    "        \n",
    "    def df_to_prophet(self,name='train', \n",
    "                timecol=\"Date\",\n",
    "                targetcol=\"Sales\",\n",
    "                ftransform=None, \n",
    "                prefilter={}, \n",
    "                postfilter={},\n",
    "                rs = '1D'):\n",
    "        '''\n",
    "        prepare data frame to prophet modelling\n",
    "            dfin - input data frame\n",
    "            timecol - the column name for time/date\n",
    "            prefilter - a dictionary that contains column_name:value\n",
    "            postfilter - a dictionary that contains column_name:value\n",
    "            ftransform - a function to apply after prefiltering takes dfin as input\n",
    "            rs - unit of time to resample time column \n",
    "        '''\n",
    "        if name in ['train','test','sample']:\n",
    "            df = self.dfdict[name].copy()\n",
    "        else:\n",
    "            print(\"only name=['train','test','sample'] are allowed\")\n",
    "            return pd.DataFrame()\n",
    "        \n",
    "        df['ts'] =  pd.to_datetime(df[timecol]).dt.tz_localize(None)\n",
    "        df['ts'] = df['ts'].dt.to_pydatetime()\n",
    "\n",
    "        #apply pre-filter\n",
    "        for k, v in prefilter.items():\n",
    "            print(f'Applying pre transform filter with column={k}, value={v}')\n",
    "            df = df[df[k]==v]\n",
    "\n",
    "        #transform\n",
    "        if ftransform is not None:\n",
    "            print(f'Applying functional transformation ..')\n",
    "            df = ftransform(df)\n",
    "\n",
    "        #apply post filter\n",
    "        for k, v in prefilter.items():\n",
    "            print(f'Applying post transform filter with column={k}, value={v}')\n",
    "            df = df[df[k]==v]\n",
    "\n",
    "        df = df.reset_index().set_index('ts').resample(rs).sum() \n",
    "        df = df.reset_index()\n",
    "\n",
    "        df = df[['ts', targetcol]]\n",
    "        df = df.rename(columns={\"ts\": \"ds\", targetcol: \"y\"})\n",
    "        df = df.dropna()\n",
    "        df.ds = pd.Series([v.to_pydatetime() for v in df.ds], dtype=object)\n",
    "        return df\n",
    "\n",
    "def plot_prophet(tsdf, \n",
    "                 changepoint_prior_scale=0.001, \n",
    "                 seasonality_prior_scale=1.0, \n",
    "                 periods=10, \n",
    "                 split=0.8 ):\n",
    "    \n",
    "    model = (Prophet(changepoint_prior_scale=changepoint_prior_scale, \n",
    "                    seasonality_prior_scale=seasonality_prior_scale, \n",
    "                    interval_width=0.95, \n",
    "                    daily_seasonality=True, \n",
    "                    weekly_seasonality=True, \n",
    "                    yearly_seasonality=False) \\\n",
    "            .add_seasonality(name='monthly', period=30.5, fourier_order=5) \\\n",
    "            .fit(tsdf)\n",
    "            )\n",
    "    \n",
    "    future = model.make_future_dataframe(periods)\n",
    "    forecast = model.predict(future)\n",
    "    components = model.plot_components(forecast)\n",
    "\n",
    "    forecast.ds = pd.Series([v.to_pydatetime() for v in forecast.ds], dtype=object)\n",
    "\n",
    "    split = 0.8\n",
    "    threshold_date_train = tsdf.ds[ int(len(tsdf.ds)*split) ]\n",
    "    threshold_date_forecast = forecast.ds[ int(len(forecast.ds)*split) ]\n",
    "\n",
    "    forecast_train = forecast[ threshold_date_forecast >= forecast.ds ]\n",
    "    forecast_test = forecast[ threshold_date_forecast < forecast.ds ]\n",
    "    df_train = tsdf[ threshold_date_train >= tsdf.ds ]\n",
    "    df_test = tsdf[ threshold_date_train < tsdf.ds ]\n",
    "\n",
    "    fig, ax = plt.subplots(figsize=(20,10))\n",
    "    sns.set_style('darkgrid', {'axes.facecolor': '.9'})\n",
    "    sns.set_palette(palette='deep')\n",
    "    sns_c = sns.color_palette(palette='deep')\n",
    "\n",
    "    ax.fill_between( x=forecast['ds'], y1=forecast['yhat_lower'], y2=forecast['yhat_upper'],\n",
    "        color=sns_c[2], alpha=0.25, label=r'0.95 credible_interval')\n",
    "\n",
    "    sns.scatterplot(x='ds', y='y', label='real historic data', data=df_train, ax=ax, color='black')\n",
    "    sns.scatterplot(x='ds', y='y', label='real test data', data=df_test, ax=ax, color = 'red')\n",
    "    sns.lineplot(x='ds', y='yhat', label='historic fit', data=forecast_train, ax=ax, color = 'blue')\n",
    "    sns.lineplot(x='ds', y='yhat', label='future prediction', data=forecast_test, ax=ax, color = 'orange')\n",
    "    ax.axvline(threshold_date_train, color=sns_c[3], linestyle='--', label='80% train-test data split')\n",
    "    ax.legend(loc='upper left')\n",
    "    ax.set_xlabel('Date')\n",
    "    ax.set_ylabel('Engagement rate')\n",
    "    ax.tick_params(axis='x', rotation=45)\n",
    "    ax.set(title='Engagement rate model fit & prediction for Campaign ID ')\n",
    "    \n",
    "    return fig, components\n",
    "    \n",
    "    \n",
    "#     model = Prophet(mcmc_samples=1000).fit(tsdf)\n",
    "    \n",
    "#     model = Prophet(seasonality_mode='multiplicative').add_seasonality('quarterly', period=91.25, fourier_order=8, \n",
    "#                        mode='additive').add_regressor('regressor', mode='additive').fit(tsdf)\n",
    "    \n",
    "#     model = Prophet(seasonality_mode='multiplicative').add_seasonality(name='monthly', period=30.5, fourier_order=5\n",
    "#             ).add_seasonality(name='weekly', period=7, fourier_order=3\n",
    "#             ).add_seasonality(name='daily', period=1, fourier_order=1\n",
    "#             ).fit(tsdf)"
   ]
  },
  {
   "cell_type": "code",
   "execution_count": null,
   "id": "f2f29d64",
   "metadata": {},
   "outputs": [],
   "source": [
    "rom.dfdict['train'].head()"
   ]
  },
  {
   "cell_type": "code",
   "execution_count": null,
   "id": "7861ce36",
   "metadata": {},
   "outputs": [],
   "source": [
    "rom = FetchPrepareData()\n",
    "tsdf = rom.df_to_prophet(name='train',prefilter={'Store':1})\n",
    "print(tsdf.shape)\n",
    "tsdf.head()"
   ]
  },
  {
   "cell_type": "code",
   "execution_count": null,
   "id": "9c45af4e",
   "metadata": {},
   "outputs": [],
   "source": [
    "plot_prophet(tsdf, changepoint_prior_scale = 10,  periods = 5) \n",
    "#              seasonality_prior_scale = 0.05"
   ]
  },
  {
   "cell_type": "code",
   "execution_count": null,
   "id": "431965f2",
   "metadata": {},
   "outputs": [],
   "source": [
    "model = Prophet(changepoint_prior_scale=0.3, daily_seasonality=True, weekly_seasonality=True, yearly_seasonality=False).fit(tsdf)\n",
    "future = model.make_future_dataframe(periods=10)\n",
    "forecast = model.predict(future)"
   ]
  },
  {
   "cell_type": "code",
   "execution_count": null,
   "id": "ed06b3ad",
   "metadata": {},
   "outputs": [],
   "source": [
    "df_cv = cross_validation(model, initial='10 days', period = '2 days', horizon = '5 days',) \n",
    "#                          parallel=\"processes\")\n",
    "df_cv"
   ]
  },
  {
   "cell_type": "code",
   "execution_count": null,
   "id": "4c6af0cd",
   "metadata": {},
   "outputs": [],
   "source": [
    "plot_prophet(tsdf2, changepoint_prior_scale = 10, periods = 1)"
   ]
  },
  {
   "cell_type": "code",
   "execution_count": null,
   "id": "bfdd2b7b",
   "metadata": {},
   "outputs": [],
   "source": [
    "param_grid = {  \n",
    "    'changepoint_prior_scale': [0.0005, 0.001, 0.005, 0.01, 0.1, 0.5],\n",
    "    'seasonality_prior_scale': [0.005, 0.01, 0.05, 0.1, 1.0, 10.0],\n",
    "}\n",
    "\n",
    "# Generate all combinations of parameters\n",
    "all_params = [dict(zip(param_grid.keys(), v)) for v in itertools.product(*param_grid.values())]\n",
    "rmses = []  # Store the RMSEs for each params here\n",
    "\n",
    "# Use cross validation to evaluate all parameters\n",
    "for params in all_params:\n",
    "    m = Prophet(**params).fit(tsdf2)  # Fit model with given params\n",
    "    df_cv = cross_validation(m, horizon= '5 days', parallel=\"processes\")\n",
    "    df_p = performance_metrics(df_cv, rolling_window=1)\n",
    "    rmses.append(df_p['rmse'].values[0])\n",
    "\n",
    "# Find the best parameters\n",
    "tuning_results = pd.DataFrame(all_params)\n",
    "tuning_results['rmse'] = rmses\n",
    "print(tuning_results)\n",
    "\n",
    "best_params = all_params[np.argmin(rmses)]\n",
    "print(best_params)"
   ]
  },
  {
   "cell_type": "code",
   "execution_count": null,
   "id": "73ee4b6a",
   "metadata": {},
   "outputs": [],
   "source": [
    "split = 0.8\n",
    "# el = int(len(tsdf.ds)*split)\n",
    "threshold_date_train = tsdf.ds[ int(len(tsdf.ds)*split) ]\n",
    "threshold_date_forecast = forecast.ds[ int(len(forecast.ds)*split) ]\n",
    "\n",
    "forecast_train = forecast[ threshold_date_forecast >= forecast.ds ]\n",
    "forecast_test = forecast[ threshold_date_forecast < forecast.ds ]\n",
    "df_train = tsdf[ threshold_date_train >= tsdf.ds ]\n",
    "df_test = tsdf[ threshold_date_train < tsdf.ds ]"
   ]
  },
  {
   "cell_type": "code",
   "execution_count": null,
   "id": "881b7e21",
   "metadata": {},
   "outputs": [],
   "source": []
  },
  {
   "cell_type": "code",
   "execution_count": null,
   "id": "7d1e709a",
   "metadata": {},
   "outputs": [],
   "source": [
    "plot_prophet(tsdf2, changepoint_prior_scale = 0.5, seasonality_prior_scale = 0.005, periods = 5)"
   ]
  },
  {
   "cell_type": "code",
   "execution_count": null,
   "id": "105e9fc6",
   "metadata": {},
   "outputs": [],
   "source": [
    "fig, ax = plt.subplots(figsize=(20,10))\n",
    "# plt.figure()\n",
    "sns.set_style('darkgrid', {'axes.facecolor': '.9'})\n",
    "sns.set_palette(palette='deep')\n",
    "sns_c = sns.color_palette(palette='deep')\n",
    "\n",
    "ax.fill_between( x=forecast['ds'], y1=forecast['yhat_lower'], y2=forecast['yhat_upper'],\n",
    "    color=sns_c[2], alpha=0.25, label=r'0.95 credible_interval')\n",
    "\n",
    "sns.scatterplot(x='ds', y='y', label='real historic data', data=df_train, ax=ax, color='black')\n",
    "sns.lineplot(x='ds', y='y', label='model fit', data=df_test, ax=ax)\n",
    "sns.lineplot(x='ds', y='yhat', label='historic fit', data=forecast_train, ax=ax, color = 'blue')\n",
    "sns.lineplot(x='ds', y='yhat', label='future prediction', data=forecast_test, ax=ax, color = 'orange')\n",
    "ax.axvline(threshold_date, color=sns_c[3], linestyle='--', label='80% train-test data split')\n",
    "ax.legend(loc='upper left')\n",
    "ax.set_xlabel('Date')\n",
    "ax.set_ylabel('Engagement rate')\n",
    "ax.tick_params(axis='x', rotation=45)\n",
    "ax.set(title='Engagement rate model fit & prediction for Campaign ID ')"
   ]
  },
  {
   "cell_type": "code",
   "execution_count": null,
   "id": "06351860",
   "metadata": {},
   "outputs": [],
   "source": []
  }
 ],
 "metadata": {
  "kernelspec": {
   "display_name": "Python 3",
   "language": "python",
   "name": "python3"
  },
  "language_info": {
   "codemirror_mode": {
    "name": "ipython",
    "version": 3
   },
   "file_extension": ".py",
   "mimetype": "text/x-python",
   "name": "python",
   "nbconvert_exporter": "python",
   "pygments_lexer": "ipython3",
   "version": "3.8.10"
  }
 },
 "nbformat": 4,
 "nbformat_minor": 5
}
