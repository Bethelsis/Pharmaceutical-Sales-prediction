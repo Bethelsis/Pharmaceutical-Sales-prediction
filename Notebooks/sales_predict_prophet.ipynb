{
 "cells": [
  {
   "cell_type": "markdown",
   "id": "a495f0e4",
   "metadata": {},
   "source": [
    "<h1><center>Pharmaceutical-Sales-prediction </center></h1>"
   ]
  },
  {
   "cell_type": "code",
   "execution_count": 138,
   "id": "53f39cc0",
   "metadata": {},
   "outputs": [
    {
     "name": "stdout",
     "output_type": "stream",
     "text": [
      "The autoreload extension is already loaded. To reload it, use:\n",
      "  %reload_ext autoreload\n"
     ]
    }
   ],
   "source": [
    "%load_ext autoreload\n",
    "%autoreload 2"
   ]
  },
  {
   "cell_type": "code",
   "execution_count": 139,
   "id": "39863b95",
   "metadata": {},
   "outputs": [],
   "source": [
    "# import necessary libraries\n",
    "import pandas as pd\n",
    "import numpy as np\n",
    "import dvc.api\n",
    "import seaborn as sns\n",
    "import matplotlib.pyplot as plt\n",
    "import logging\n",
    "import mlflow\n",
    "# To ignore any warnings\n",
    "import warnings                        \n",
    "warnings.filterwarnings(\"ignore\")\n",
    "import os\n",
    "import logging\n"
   ]
  },
  {
   "cell_type": "code",
   "execution_count": 140,
   "id": "ac95b931",
   "metadata": {},
   "outputs": [
    {
     "data": {
      "text/html": [
       "<div>\n",
       "<style scoped>\n",
       "    .dataframe tbody tr th:only-of-type {\n",
       "        vertical-align: middle;\n",
       "    }\n",
       "\n",
       "    .dataframe tbody tr th {\n",
       "        vertical-align: top;\n",
       "    }\n",
       "\n",
       "    .dataframe thead th {\n",
       "        text-align: right;\n",
       "    }\n",
       "</style>\n",
       "<table border=\"1\" class=\"dataframe\">\n",
       "  <thead>\n",
       "    <tr style=\"text-align: right;\">\n",
       "      <th></th>\n",
       "      <th>Store</th>\n",
       "      <th>DayOfWeek</th>\n",
       "      <th>Date</th>\n",
       "      <th>Sales</th>\n",
       "      <th>Customers</th>\n",
       "      <th>Open</th>\n",
       "      <th>Promo</th>\n",
       "      <th>StateHoliday</th>\n",
       "      <th>SchoolHoliday</th>\n",
       "    </tr>\n",
       "  </thead>\n",
       "  <tbody>\n",
       "    <tr>\n",
       "      <th>0</th>\n",
       "      <td>1</td>\n",
       "      <td>5</td>\n",
       "      <td>2015-07-31</td>\n",
       "      <td>5263</td>\n",
       "      <td>555</td>\n",
       "      <td>1</td>\n",
       "      <td>1</td>\n",
       "      <td>0</td>\n",
       "      <td>1</td>\n",
       "    </tr>\n",
       "    <tr>\n",
       "      <th>1</th>\n",
       "      <td>2</td>\n",
       "      <td>5</td>\n",
       "      <td>2015-07-31</td>\n",
       "      <td>6064</td>\n",
       "      <td>625</td>\n",
       "      <td>1</td>\n",
       "      <td>1</td>\n",
       "      <td>0</td>\n",
       "      <td>1</td>\n",
       "    </tr>\n",
       "    <tr>\n",
       "      <th>2</th>\n",
       "      <td>3</td>\n",
       "      <td>5</td>\n",
       "      <td>2015-07-31</td>\n",
       "      <td>8314</td>\n",
       "      <td>821</td>\n",
       "      <td>1</td>\n",
       "      <td>1</td>\n",
       "      <td>0</td>\n",
       "      <td>1</td>\n",
       "    </tr>\n",
       "    <tr>\n",
       "      <th>3</th>\n",
       "      <td>4</td>\n",
       "      <td>5</td>\n",
       "      <td>2015-07-31</td>\n",
       "      <td>13995</td>\n",
       "      <td>1498</td>\n",
       "      <td>1</td>\n",
       "      <td>1</td>\n",
       "      <td>0</td>\n",
       "      <td>1</td>\n",
       "    </tr>\n",
       "    <tr>\n",
       "      <th>4</th>\n",
       "      <td>5</td>\n",
       "      <td>5</td>\n",
       "      <td>2015-07-31</td>\n",
       "      <td>4822</td>\n",
       "      <td>559</td>\n",
       "      <td>1</td>\n",
       "      <td>1</td>\n",
       "      <td>0</td>\n",
       "      <td>1</td>\n",
       "    </tr>\n",
       "  </tbody>\n",
       "</table>\n",
       "</div>"
      ],
      "text/plain": [
       "   Store  DayOfWeek        Date  Sales  Customers  Open  Promo StateHoliday  \\\n",
       "0      1          5  2015-07-31   5263        555     1      1            0   \n",
       "1      2          5  2015-07-31   6064        625     1      1            0   \n",
       "2      3          5  2015-07-31   8314        821     1      1            0   \n",
       "3      4          5  2015-07-31  13995       1498     1      1            0   \n",
       "4      5          5  2015-07-31   4822        559     1      1            0   \n",
       "\n",
       "   SchoolHoliday  \n",
       "0              1  \n",
       "1              1  \n",
       "2              1  \n",
       "3              1  \n",
       "4              1  "
      ]
     },
     "execution_count": 140,
     "metadata": {},
     "output_type": "execute_result"
    }
   ],
   "source": [
    "#Load training data \n",
    "path = 'data/train.csv'\n",
    "repo = '/home/bethelhem/Pharmaceutical-Sales-prediction'\n",
    "version = 'train_v1'\n",
    "data_url2 = dvc.api.get_url(\n",
    "    path = path,\n",
    "    repo = repo,\n",
    "    rev=version\n",
    "    )\n",
    "try:\n",
    "    train_data=pd.read_csv(data_url2)  \n",
    "except FileNotFoundError:\n",
    "        print(\"file not found\")\n",
    "train_data.head()"
   ]
  },
  {
   "cell_type": "code",
   "execution_count": 141,
   "id": "085bade7",
   "metadata": {},
   "outputs": [
    {
     "data": {
      "text/html": [
       "<div>\n",
       "<style scoped>\n",
       "    .dataframe tbody tr th:only-of-type {\n",
       "        vertical-align: middle;\n",
       "    }\n",
       "\n",
       "    .dataframe tbody tr th {\n",
       "        vertical-align: top;\n",
       "    }\n",
       "\n",
       "    .dataframe thead th {\n",
       "        text-align: right;\n",
       "    }\n",
       "</style>\n",
       "<table border=\"1\" class=\"dataframe\">\n",
       "  <thead>\n",
       "    <tr style=\"text-align: right;\">\n",
       "      <th></th>\n",
       "      <th>Id</th>\n",
       "      <th>Store</th>\n",
       "      <th>DayOfWeek</th>\n",
       "      <th>Date</th>\n",
       "      <th>Open</th>\n",
       "      <th>Promo</th>\n",
       "      <th>StateHoliday</th>\n",
       "      <th>SchoolHoliday</th>\n",
       "    </tr>\n",
       "  </thead>\n",
       "  <tbody>\n",
       "    <tr>\n",
       "      <th>0</th>\n",
       "      <td>1</td>\n",
       "      <td>1</td>\n",
       "      <td>4</td>\n",
       "      <td>2015-09-17</td>\n",
       "      <td>1.0</td>\n",
       "      <td>1</td>\n",
       "      <td>0</td>\n",
       "      <td>0</td>\n",
       "    </tr>\n",
       "    <tr>\n",
       "      <th>1</th>\n",
       "      <td>2</td>\n",
       "      <td>3</td>\n",
       "      <td>4</td>\n",
       "      <td>2015-09-17</td>\n",
       "      <td>1.0</td>\n",
       "      <td>1</td>\n",
       "      <td>0</td>\n",
       "      <td>0</td>\n",
       "    </tr>\n",
       "    <tr>\n",
       "      <th>2</th>\n",
       "      <td>3</td>\n",
       "      <td>7</td>\n",
       "      <td>4</td>\n",
       "      <td>2015-09-17</td>\n",
       "      <td>1.0</td>\n",
       "      <td>1</td>\n",
       "      <td>0</td>\n",
       "      <td>0</td>\n",
       "    </tr>\n",
       "    <tr>\n",
       "      <th>3</th>\n",
       "      <td>4</td>\n",
       "      <td>8</td>\n",
       "      <td>4</td>\n",
       "      <td>2015-09-17</td>\n",
       "      <td>1.0</td>\n",
       "      <td>1</td>\n",
       "      <td>0</td>\n",
       "      <td>0</td>\n",
       "    </tr>\n",
       "    <tr>\n",
       "      <th>4</th>\n",
       "      <td>5</td>\n",
       "      <td>9</td>\n",
       "      <td>4</td>\n",
       "      <td>2015-09-17</td>\n",
       "      <td>1.0</td>\n",
       "      <td>1</td>\n",
       "      <td>0</td>\n",
       "      <td>0</td>\n",
       "    </tr>\n",
       "  </tbody>\n",
       "</table>\n",
       "</div>"
      ],
      "text/plain": [
       "   Id  Store  DayOfWeek        Date  Open  Promo StateHoliday  SchoolHoliday\n",
       "0   1      1          4  2015-09-17   1.0      1            0              0\n",
       "1   2      3          4  2015-09-17   1.0      1            0              0\n",
       "2   3      7          4  2015-09-17   1.0      1            0              0\n",
       "3   4      8          4  2015-09-17   1.0      1            0              0\n",
       "4   5      9          4  2015-09-17   1.0      1            0              0"
      ]
     },
     "execution_count": 141,
     "metadata": {},
     "output_type": "execute_result"
    }
   ],
   "source": [
    "#load test data\n",
    "path = 'data/test.csv'\n",
    "repo = '/home/bethelhem/Pharmaceutical-Sales-prediction'\n",
    "version = 'test_v1'\n",
    "data_url3 = dvc.api.get_url(\n",
    "    path = path,\n",
    "    repo = repo,\n",
    "    rev=version\n",
    "    )\n",
    "try:\n",
    "    test_data=pd.read_csv(data_url3) \n",
    "\n",
    "except FileNotFoundError:\n",
    "        print(\"file not found\")\n",
    "test_data.head()"
   ]
  },
  {
   "cell_type": "code",
   "execution_count": 142,
   "id": "f1e6d7cf",
   "metadata": {},
   "outputs": [
    {
     "data": {
      "text/html": [
       "<div>\n",
       "<style scoped>\n",
       "    .dataframe tbody tr th:only-of-type {\n",
       "        vertical-align: middle;\n",
       "    }\n",
       "\n",
       "    .dataframe tbody tr th {\n",
       "        vertical-align: top;\n",
       "    }\n",
       "\n",
       "    .dataframe thead th {\n",
       "        text-align: right;\n",
       "    }\n",
       "</style>\n",
       "<table border=\"1\" class=\"dataframe\">\n",
       "  <thead>\n",
       "    <tr style=\"text-align: right;\">\n",
       "      <th></th>\n",
       "      <th>Store</th>\n",
       "      <th>StoreType</th>\n",
       "      <th>Assortment</th>\n",
       "      <th>CompetitionDistance</th>\n",
       "      <th>CompetitionOpenSinceMonth</th>\n",
       "      <th>CompetitionOpenSinceYear</th>\n",
       "      <th>Promo2</th>\n",
       "      <th>Promo2SinceWeek</th>\n",
       "      <th>Promo2SinceYear</th>\n",
       "      <th>PromoInterval</th>\n",
       "    </tr>\n",
       "  </thead>\n",
       "  <tbody>\n",
       "    <tr>\n",
       "      <th>0</th>\n",
       "      <td>1</td>\n",
       "      <td>c</td>\n",
       "      <td>a</td>\n",
       "      <td>1270.0</td>\n",
       "      <td>9.0</td>\n",
       "      <td>2008.0</td>\n",
       "      <td>0</td>\n",
       "      <td>NaN</td>\n",
       "      <td>NaN</td>\n",
       "      <td>NaN</td>\n",
       "    </tr>\n",
       "    <tr>\n",
       "      <th>1</th>\n",
       "      <td>2</td>\n",
       "      <td>a</td>\n",
       "      <td>a</td>\n",
       "      <td>570.0</td>\n",
       "      <td>11.0</td>\n",
       "      <td>2007.0</td>\n",
       "      <td>1</td>\n",
       "      <td>13.0</td>\n",
       "      <td>2010.0</td>\n",
       "      <td>Jan,Apr,Jul,Oct</td>\n",
       "    </tr>\n",
       "    <tr>\n",
       "      <th>2</th>\n",
       "      <td>3</td>\n",
       "      <td>a</td>\n",
       "      <td>a</td>\n",
       "      <td>14130.0</td>\n",
       "      <td>12.0</td>\n",
       "      <td>2006.0</td>\n",
       "      <td>1</td>\n",
       "      <td>14.0</td>\n",
       "      <td>2011.0</td>\n",
       "      <td>Jan,Apr,Jul,Oct</td>\n",
       "    </tr>\n",
       "    <tr>\n",
       "      <th>3</th>\n",
       "      <td>4</td>\n",
       "      <td>c</td>\n",
       "      <td>c</td>\n",
       "      <td>620.0</td>\n",
       "      <td>9.0</td>\n",
       "      <td>2009.0</td>\n",
       "      <td>0</td>\n",
       "      <td>NaN</td>\n",
       "      <td>NaN</td>\n",
       "      <td>NaN</td>\n",
       "    </tr>\n",
       "    <tr>\n",
       "      <th>4</th>\n",
       "      <td>5</td>\n",
       "      <td>a</td>\n",
       "      <td>a</td>\n",
       "      <td>29910.0</td>\n",
       "      <td>4.0</td>\n",
       "      <td>2015.0</td>\n",
       "      <td>0</td>\n",
       "      <td>NaN</td>\n",
       "      <td>NaN</td>\n",
       "      <td>NaN</td>\n",
       "    </tr>\n",
       "  </tbody>\n",
       "</table>\n",
       "</div>"
      ],
      "text/plain": [
       "   Store StoreType Assortment  CompetitionDistance  CompetitionOpenSinceMonth  \\\n",
       "0      1         c          a               1270.0                        9.0   \n",
       "1      2         a          a                570.0                       11.0   \n",
       "2      3         a          a              14130.0                       12.0   \n",
       "3      4         c          c                620.0                        9.0   \n",
       "4      5         a          a              29910.0                        4.0   \n",
       "\n",
       "   CompetitionOpenSinceYear  Promo2  Promo2SinceWeek  Promo2SinceYear  \\\n",
       "0                    2008.0       0              NaN              NaN   \n",
       "1                    2007.0       1             13.0           2010.0   \n",
       "2                    2006.0       1             14.0           2011.0   \n",
       "3                    2009.0       0              NaN              NaN   \n",
       "4                    2015.0       0              NaN              NaN   \n",
       "\n",
       "     PromoInterval  \n",
       "0              NaN  \n",
       "1  Jan,Apr,Jul,Oct  \n",
       "2  Jan,Apr,Jul,Oct  \n",
       "3              NaN  \n",
       "4              NaN  "
      ]
     },
     "execution_count": 142,
     "metadata": {},
     "output_type": "execute_result"
    }
   ],
   "source": [
    "#load store data\n",
    "path = 'data/store.csv'\n",
    "repo = '/home/bethelhem/Pharmaceutical-Sales-prediction'\n",
    "version = 'store_v1'\n",
    "data_url = dvc.api.get_url(\n",
    "    path = path,\n",
    "    repo = repo,\n",
    "    rev=version\n",
    "    )\n",
    "try:\n",
    "    store_data=pd.read_csv(data_url)\n",
    "except FileNotFoundError:\n",
    "        print(\"file not found\")\n",
    "store_data.head()"
   ]
  },
  {
   "cell_type": "markdown",
   "id": "2f900e22",
   "metadata": {},
   "source": [
    "#### Glance the data"
   ]
  },
  {
   "cell_type": "code",
   "execution_count": 143,
   "id": "857255dd",
   "metadata": {},
   "outputs": [
    {
     "name": "stdout",
     "output_type": "stream",
     "text": [
      "shape of the  store data:  (1115, 10)\n",
      "<class 'pandas.core.frame.DataFrame'>\n",
      "RangeIndex: 1115 entries, 0 to 1114\n",
      "Data columns (total 10 columns):\n",
      " #   Column                     Non-Null Count  Dtype  \n",
      "---  ------                     --------------  -----  \n",
      " 0   Store                      1115 non-null   int64  \n",
      " 1   StoreType                  1115 non-null   object \n",
      " 2   Assortment                 1115 non-null   object \n",
      " 3   CompetitionDistance        1112 non-null   float64\n",
      " 4   CompetitionOpenSinceMonth  761 non-null    float64\n",
      " 5   CompetitionOpenSinceYear   761 non-null    float64\n",
      " 6   Promo2                     1115 non-null   int64  \n",
      " 7   Promo2SinceWeek            571 non-null    float64\n",
      " 8   Promo2SinceYear            571 non-null    float64\n",
      " 9   PromoInterval              571 non-null    object \n",
      "dtypes: float64(5), int64(2), object(3)\n",
      "memory usage: 87.2+ KB\n",
      "None\n"
     ]
    }
   ],
   "source": [
    "print(\"shape of the  store data: \",store_data.shape)\n",
    "print(store_data.info())"
   ]
  },
  {
   "cell_type": "code",
   "execution_count": 144,
   "id": "f3138631",
   "metadata": {},
   "outputs": [
    {
     "name": "stdout",
     "output_type": "stream",
     "text": [
      "shape of the  train data:  (1017209, 9)\n",
      "Store             1115\n",
      "DayOfWeek            7\n",
      "Date               942\n",
      "Sales            21734\n",
      "Customers         4086\n",
      "Open                 2\n",
      "Promo                2\n",
      "StateHoliday         5\n",
      "SchoolHoliday        2\n",
      "dtype: int64\n"
     ]
    }
   ],
   "source": [
    "print(\"shape of the  train data: \",train_data.shape)\n",
    "print(train_data.nunique())"
   ]
  },
  {
   "cell_type": "markdown",
   "id": "f7d4fb6c",
   "metadata": {},
   "source": [
    "### Data cleaning"
   ]
  },
  {
   "cell_type": "code",
   "execution_count": 145,
   "id": "38f6ad6d",
   "metadata": {},
   "outputs": [],
   "source": [
    "#data extraction\n",
    "try:\n",
    "    train_data['Date'] = pd.to_datetime(train_data['Date'])\n",
    "    train_data['Year'] = train_data['Date'].dt.year\n",
    "    train_data['Month'] = train_data['Date'].dt.month\n",
    "    train_data['Day'] = train_data['Date'].dt.day\n",
    "    train_data['WeekOfYear'] = train_data['Date'].dt.weekofyear\n",
    "except KeyError:\n",
    "        print(\"Column couldn't be found\")\n",
    "        \n",
    "#Coping dataframe for later plots\n",
    "train_data_copy=train_data.copy() #for later plots\n"
   ]
  },
  {
   "cell_type": "code",
   "execution_count": 146,
   "id": "535eb373",
   "metadata": {},
   "outputs": [
    {
     "data": {
      "text/html": [
       "<div>\n",
       "<style scoped>\n",
       "    .dataframe tbody tr th:only-of-type {\n",
       "        vertical-align: middle;\n",
       "    }\n",
       "\n",
       "    .dataframe tbody tr th {\n",
       "        vertical-align: top;\n",
       "    }\n",
       "\n",
       "    .dataframe thead th {\n",
       "        text-align: right;\n",
       "    }\n",
       "</style>\n",
       "<table border=\"1\" class=\"dataframe\">\n",
       "  <thead>\n",
       "    <tr style=\"text-align: right;\">\n",
       "      <th></th>\n",
       "      <th>Store</th>\n",
       "      <th>DayOfWeek</th>\n",
       "      <th>Date</th>\n",
       "      <th>Sales</th>\n",
       "      <th>Customers</th>\n",
       "      <th>Open</th>\n",
       "      <th>Promo</th>\n",
       "      <th>StateHoliday</th>\n",
       "      <th>SchoolHoliday</th>\n",
       "      <th>Year</th>\n",
       "      <th>Month</th>\n",
       "      <th>Day</th>\n",
       "      <th>WeekOfYear</th>\n",
       "    </tr>\n",
       "  </thead>\n",
       "  <tbody>\n",
       "    <tr>\n",
       "      <th>0</th>\n",
       "      <td>1</td>\n",
       "      <td>5</td>\n",
       "      <td>2015-07-31</td>\n",
       "      <td>5263</td>\n",
       "      <td>555</td>\n",
       "      <td>1</td>\n",
       "      <td>1</td>\n",
       "      <td>0</td>\n",
       "      <td>1</td>\n",
       "      <td>2015</td>\n",
       "      <td>7</td>\n",
       "      <td>31</td>\n",
       "      <td>31</td>\n",
       "    </tr>\n",
       "    <tr>\n",
       "      <th>1</th>\n",
       "      <td>2</td>\n",
       "      <td>5</td>\n",
       "      <td>2015-07-31</td>\n",
       "      <td>6064</td>\n",
       "      <td>625</td>\n",
       "      <td>1</td>\n",
       "      <td>1</td>\n",
       "      <td>0</td>\n",
       "      <td>1</td>\n",
       "      <td>2015</td>\n",
       "      <td>7</td>\n",
       "      <td>31</td>\n",
       "      <td>31</td>\n",
       "    </tr>\n",
       "    <tr>\n",
       "      <th>2</th>\n",
       "      <td>3</td>\n",
       "      <td>5</td>\n",
       "      <td>2015-07-31</td>\n",
       "      <td>8314</td>\n",
       "      <td>821</td>\n",
       "      <td>1</td>\n",
       "      <td>1</td>\n",
       "      <td>0</td>\n",
       "      <td>1</td>\n",
       "      <td>2015</td>\n",
       "      <td>7</td>\n",
       "      <td>31</td>\n",
       "      <td>31</td>\n",
       "    </tr>\n",
       "    <tr>\n",
       "      <th>3</th>\n",
       "      <td>4</td>\n",
       "      <td>5</td>\n",
       "      <td>2015-07-31</td>\n",
       "      <td>13995</td>\n",
       "      <td>1498</td>\n",
       "      <td>1</td>\n",
       "      <td>1</td>\n",
       "      <td>0</td>\n",
       "      <td>1</td>\n",
       "      <td>2015</td>\n",
       "      <td>7</td>\n",
       "      <td>31</td>\n",
       "      <td>31</td>\n",
       "    </tr>\n",
       "    <tr>\n",
       "      <th>4</th>\n",
       "      <td>5</td>\n",
       "      <td>5</td>\n",
       "      <td>2015-07-31</td>\n",
       "      <td>4822</td>\n",
       "      <td>559</td>\n",
       "      <td>1</td>\n",
       "      <td>1</td>\n",
       "      <td>0</td>\n",
       "      <td>1</td>\n",
       "      <td>2015</td>\n",
       "      <td>7</td>\n",
       "      <td>31</td>\n",
       "      <td>31</td>\n",
       "    </tr>\n",
       "  </tbody>\n",
       "</table>\n",
       "</div>"
      ],
      "text/plain": [
       "   Store  DayOfWeek       Date  Sales  Customers  Open  Promo StateHoliday  \\\n",
       "0      1          5 2015-07-31   5263        555     1      1            0   \n",
       "1      2          5 2015-07-31   6064        625     1      1            0   \n",
       "2      3          5 2015-07-31   8314        821     1      1            0   \n",
       "3      4          5 2015-07-31  13995       1498     1      1            0   \n",
       "4      5          5 2015-07-31   4822        559     1      1            0   \n",
       "\n",
       "   SchoolHoliday  Year  Month  Day  WeekOfYear  \n",
       "0              1  2015      7   31          31  \n",
       "1              1  2015      7   31          31  \n",
       "2              1  2015      7   31          31  \n",
       "3              1  2015      7   31          31  \n",
       "4              1  2015      7   31          31  "
      ]
     },
     "execution_count": 146,
     "metadata": {},
     "output_type": "execute_result"
    }
   ],
   "source": [
    "train_data.head()"
   ]
  },
  {
   "cell_type": "code",
   "execution_count": 147,
   "id": "544ba0ea",
   "metadata": {},
   "outputs": [
    {
     "data": {
      "text/plain": [
       "Store            0\n",
       "DayOfWeek        0\n",
       "Date             0\n",
       "Sales            0\n",
       "Customers        0\n",
       "Open             0\n",
       "Promo            0\n",
       "StateHoliday     0\n",
       "SchoolHoliday    0\n",
       "Year             0\n",
       "Month            0\n",
       "Day              0\n",
       "WeekOfYear       0\n",
       "dtype: int64"
      ]
     },
     "execution_count": 147,
     "metadata": {},
     "output_type": "execute_result"
    }
   ],
   "source": [
    "#checking for missing values in training data\n",
    "train_data.isnull().sum()"
   ]
  },
  {
   "cell_type": "markdown",
   "id": "332ff85a",
   "metadata": {},
   "source": [
    "\n",
    "- As shown above the training data has no missing values."
   ]
  },
  {
   "cell_type": "code",
   "execution_count": 148,
   "id": "cf817270",
   "metadata": {},
   "outputs": [
    {
     "data": {
      "text/plain": [
       "Id                0\n",
       "Store             0\n",
       "DayOfWeek         0\n",
       "Date              0\n",
       "Open             11\n",
       "Promo             0\n",
       "StateHoliday      0\n",
       "SchoolHoliday     0\n",
       "dtype: int64"
      ]
     },
     "execution_count": 148,
     "metadata": {},
     "output_type": "execute_result"
    }
   ],
   "source": [
    "#checking for missing values in test data\n",
    "test_data.isnull().sum()"
   ]
  },
  {
   "cell_type": "markdown",
   "id": "322f9a93",
   "metadata": {},
   "source": [
    "\n",
    "-  The test data has a missing value for open variable , we impute it using the mode."
   ]
  },
  {
   "cell_type": "code",
   "execution_count": 149,
   "id": "699838a4",
   "metadata": {},
   "outputs": [
    {
     "data": {
      "text/plain": [
       "False"
      ]
     },
     "execution_count": 149,
     "metadata": {},
     "output_type": "execute_result"
    }
   ],
   "source": [
    "# impute the missing value in test data\n",
    "test_data['Open'].fillna(test_data['Open'].mode, inplace = True)\n",
    "test_data.isnull().values.any()"
   ]
  },
  {
   "cell_type": "code",
   "execution_count": null,
   "id": "13185d24",
   "metadata": {},
   "outputs": [],
   "source": [
    "# closed stores\n",
    "train_data[(train_data.Open == 0) & (train_data.Sales == 0)].count()"
   ]
  },
  {
   "cell_type": "code",
   "execution_count": null,
   "id": "e4dbfcc3",
   "metadata": {},
   "outputs": [],
   "source": [
    "print(train_data.shape)\n",
    "closed_stores = train_data[(train_data['Open'] == 0) & (train_data['Sales'] == 0)].index\n",
    "#To avoid any biased forecasts we will drop these values.\n",
    "train_data.drop(closed_stores,inplace = True)\n",
    "print(train_data.shape)\n"
   ]
  },
  {
   "cell_type": "code",
   "execution_count": null,
   "id": "e4bc5f59",
   "metadata": {},
   "outputs": [],
   "source": [
    "open_no_sale = train_data[(train_data[\"Open\"] != 0) & (train_data['Sales'] == 0)].index\n",
    "train_data[(train_data[\"Open\"] != 0) & (train_data['Sales'] == 0)]['Date'].nunique()"
   ]
  },
  {
   "cell_type": "markdown",
   "id": "74ab4d8d",
   "metadata": {},
   "source": [
    "- There are open stores with no sales.We can presume that external variables played a role. There're only 49 days in the data."
   ]
  },
  {
   "cell_type": "code",
   "execution_count": null,
   "id": "6bbb1246",
   "metadata": {},
   "outputs": [],
   "source": [
    "train_data.drop(open_no_sale,inplace = True)\n",
    "train_data.shape"
   ]
  },
  {
   "cell_type": "code",
   "execution_count": null,
   "id": "bf31396a",
   "metadata": {},
   "outputs": [],
   "source": [
    "# Stores with maximum sale count\n",
    "train_data.groupby('Store')['Sales','Customers'].sum().sort_values('Sales', ascending=False).head()"
   ]
  },
  {
   "cell_type": "code",
   "execution_count": null,
   "id": "b3435799",
   "metadata": {},
   "outputs": [],
   "source": [
    "store_exc = train_data[(train_data[\"StateHoliday\"] != \"o\") & (train_data[\"Sales\"] != 0)][\"Store\"].nunique()\n",
    "print(f\"There are {store_exc} stores that have opened during state holidays.\")"
   ]
  },
  {
   "cell_type": "code",
   "execution_count": null,
   "id": "0e9ebf90",
   "metadata": {},
   "outputs": [],
   "source": [
    "#check for missing values in store dataframe\n",
    "store_data.isnull().sum()"
   ]
  },
  {
   "cell_type": "markdown",
   "id": "4af0e1ec",
   "metadata": {},
   "source": [
    "- We need to deal with a couple of variables that have missing values."
   ]
  },
  {
   "cell_type": "code",
   "execution_count": null,
   "id": "4cfa45f5",
   "metadata": {},
   "outputs": [],
   "source": [
    "#fill missing values in CompetitionDistance with median value\n",
    "store_data['CompetitionDistance'].fillna(store_data['CompetitionDistance'].median(), inplace = True)"
   ]
  },
  {
   "cell_type": "code",
   "execution_count": null,
   "id": "83a2c641",
   "metadata": {},
   "outputs": [],
   "source": [
    "#fill missing values with mode\n",
    "store_data['CompetitionOpenSinceMonth'].fillna(store_data['CompetitionOpenSinceMonth'].mode, inplace = True)\n",
    "store_data['CompetitionOpenSinceYear'].fillna(store_data['CompetitionOpenSinceYear'].mode, inplace = True)\n",
    "store_data['Promo2SinceWeek'].fillna(store_data['Promo2SinceWeek'].mode, inplace = True)\n",
    "store_data['Promo2SinceYear'].fillna(store_data['Promo2SinceYear'].mode, inplace = True)\n",
    "store_data['PromoInterval'].fillna(store_data['PromoInterval'].mode, inplace = True)\n",
    "store_data.isnull().values.any()"
   ]
  },
  {
   "cell_type": "markdown",
   "id": "11829f2f",
   "metadata": {},
   "source": [
    "- Let us take a closer look at the various StoreType levels and how the main metric Sales is distributed among them."
   ]
  },
  {
   "cell_type": "code",
   "execution_count": null,
   "id": "c88ada13",
   "metadata": {},
   "outputs": [],
   "source": [
    "print(\"Joining train set with an additional store information.\")\n",
    "train_store = train_data.merge(store_data,on=[\"Store\"],how=\"inner\")\n"
   ]
  },
  {
   "cell_type": "code",
   "execution_count": null,
   "id": "ece9fe0b",
   "metadata": {},
   "outputs": [],
   "source": [
    "train_store.shape"
   ]
  },
  {
   "cell_type": "code",
   "execution_count": null,
   "id": "a49679e4",
   "metadata": {},
   "outputs": [],
   "source": [
    "train_store.groupby('StoreType')['Sales'].describe()"
   ]
  },
  {
   "cell_type": "markdown",
   "id": "e3c4d1d3",
   "metadata": {},
   "source": [
    "- Among all StoreTypes, StoreType B has the greatest average of Sales, although we have significantly less data for it.StoreType D has the least average of Sales."
   ]
  },
  {
   "cell_type": "code",
   "execution_count": null,
   "id": "299ae365",
   "metadata": {},
   "outputs": [],
   "source": [
    "#overall sum of Sales and Customers to see which StoreType is the most selling and crowded one\n",
    "train_store.groupby('StoreType')['Customers', 'Sales'].sum()"
   ]
  },
  {
   "cell_type": "markdown",
   "id": "9692074c",
   "metadata": {},
   "source": [
    " - StoreType A is the most selling and crowded one."
   ]
  },
  {
   "cell_type": "markdown",
   "id": "8c7b90ea",
   "metadata": {},
   "source": [
    "## Correlation matrix"
   ]
  },
  {
   "cell_type": "code",
   "execution_count": null,
   "id": "86609d63",
   "metadata": {},
   "outputs": [],
   "source": [
    "\n",
    "corrMatrix= train_store.drop('Open', axis = 1).corr()\n",
    "f, ax = plt.subplots(figsize=(16, 14))\n",
    "res=sns.heatmap(corrMatrix,cmap=\"Blues\",annot=True,fmt='.4f',annot_kws={\"size\":12})\n",
    "res.set_xticklabels(res.get_xmajorticklabels(), fontsize = 12)\n",
    "res.set_yticklabels(res.get_ymajorticklabels(), fontsize = 12)\n",
    "plt.show()"
   ]
  },
  {
   "cell_type": "markdown",
   "id": "58abbc0f",
   "metadata": {},
   "source": [
    "- As shown in the figure, the dark Blue squares represents more closely correlated data. **sales and customers data are highly correlated**."
   ]
  },
  {
   "cell_type": "code",
   "execution_count": null,
   "id": "60b757a3",
   "metadata": {},
   "outputs": [],
   "source": [
    "sns.set(style=\"whitegrid\")\n",
    "ax = sns.barplot(x=\"Month\", y=\"Sales\", data=train_store)\n",
    "plt.title('Monthly Sales data\\n', size=15, fontweight='bold')"
   ]
  },
  {
   "cell_type": "code",
   "execution_count": null,
   "id": "aed3e0d8",
   "metadata": {},
   "outputs": [],
   "source": [
    "#check seasonality for the given store\n",
    "def seasonality(store):\n",
    "    sales = train_data[train_data.Store == store]\n",
    "    sales = sales.sort_values(by = \"Date\",ascending= False)\n",
    "    sns.set(rc = {'figure.figsize':(20,8)})\n",
    "    sns.lineplot(x = sales[\"Date\"], y = sales[\"Sales\"], color= \"green\")\n",
    "    plt.xticks(rotation=90)\n",
    "    plt.xlabel('Date', fontsize=18)\n",
    "    plt.ylabel('Sales', fontsize=16)\n",
    "    plt.title(f'Seasonality of store {store}\\n', size=20, fontweight='bold')\n",
    "    plt.show()"
   ]
  },
  {
   "cell_type": "code",
   "execution_count": null,
   "id": "c6abe40c",
   "metadata": {},
   "outputs": [],
   "source": [
    "seasonality(1)"
   ]
  },
  {
   "cell_type": "code",
   "execution_count": null,
   "id": "336c3bfe",
   "metadata": {},
   "outputs": [],
   "source": [
    "#check seasonality for 2013,2014 and 2015 for a given store\n",
    "def seasonality_year(store):\n",
    "    sale = train_data[train_data.Store == store]\n",
    "    sale = sale[(sale.Year == 2015) | (sale.Year == 2014) | (sale.Year == 2013)]\n",
    "    sale = sale.sort_values(by = \"Date\",ascending= False)\n",
    "    sns.set(rc = {'figure.figsize':(20,8)})\n",
    "    sns.lineplot(x = sale[\"Date\"], y = sale[\"Sales\"], color= \"green\")\n",
    "    plt.xticks(rotation=90)\n",
    "    plt.xlabel('Date', fontsize=18)\n",
    "    plt.ylabel('Sales', fontsize=16)\n",
    "    plt.title(f'Seasonality of store {store} from 2013-2015 \\n', size=20, fontweight='bold')\n",
    "    plt.show()"
   ]
  },
  {
   "cell_type": "code",
   "execution_count": null,
   "id": "5d1c5c76",
   "metadata": {},
   "outputs": [],
   "source": [
    "seasonality_year(1)"
   ]
  },
  {
   "cell_type": "code",
   "execution_count": null,
   "id": "f7743489",
   "metadata": {},
   "outputs": [],
   "source": [
    "def plot_counts(df:pd.DataFrame, column1:str) -> None:\n",
    "    plt.figure(figsize=(4, 2))\n",
    "    sns.countplot(data=df, x=column1)\n",
    "    plt.title(f'Distribution of {column1}\\n', size=13, fontweight='bold')\n",
    "    plt.show()"
   ]
  },
  {
   "cell_type": "code",
   "execution_count": null,
   "id": "a320fe87",
   "metadata": {},
   "outputs": [],
   "source": [
    "promo = pd.DataFrame()\n",
    "promo['train promo'] = train_data['Promo']\n",
    "promo['test promo'] = test_data['Promo']\n",
    "\n"
   ]
  },
  {
   "cell_type": "code",
   "execution_count": null,
   "id": "d3cd134c",
   "metadata": {},
   "outputs": [],
   "source": [
    "#distribution of train promo\n",
    "plot_counts(promo, 'train promo')\n"
   ]
  },
  {
   "cell_type": "code",
   "execution_count": null,
   "id": "c0eb7114",
   "metadata": {},
   "outputs": [],
   "source": [
    "#distribution of test promo\n",
    "plot_counts(promo, 'test promo')"
   ]
  },
  {
   "cell_type": "code",
   "execution_count": null,
   "id": "6758164f",
   "metadata": {},
   "outputs": [],
   "source": [
    "#sales behavior before, during and after holidays\n",
    "pre_holiday = train_data[(train_data[\"Date\"]> '2013-12-09') & (train_data[\"Date\"]< '2013-12-22')  ]\n",
    "\n",
    "during_holiday=train_data[(train_data[\"Date\"]> '2013-12-22') & (train_data[\"Date\"]< '2013-12-31')  ]\n",
    "\n",
    "post_holiday = train_data[(train_data[\"Date\"]> '2013-12-31') & (train_data[\"Date\"]< '2014-01-15')  ]"
   ]
  },
  {
   "cell_type": "code",
   "execution_count": null,
   "id": "056b2c7c",
   "metadata": {},
   "outputs": [],
   "source": [
    "sns.lineplot(x = pre_holiday[\"Date\"] , y = pre_holiday[\"Sales\"] )\n",
    "sns.lineplot(x = during_holiday[\"Date\"] , y = during_holiday[\"Sales\"] )\n",
    "sns.lineplot(x = post_holiday[\"Date\"] , y = post_holiday[\"Sales\"] )\n",
    "plt.xticks(rotation=90)\n",
    "plt.xlabel('Date', fontsize=18)\n",
    "plt.ylabel('Sales', fontsize=16)\n",
    "plt.title(f'Sales behavior before, during and after Christmas \\n', size=20, fontweight='bold')\n",
    "plt.show()"
   ]
  },
  {
   "cell_type": "markdown",
   "id": "5ff3e37f",
   "metadata": {},
   "source": [
    "- As demonstrated in the figure, purchases prior to the holiday are large, while purchases during the holiday are relatively low."
   ]
  },
  {
   "cell_type": "code",
   "execution_count": null,
   "id": "2a5532ca",
   "metadata": {},
   "outputs": [],
   "source": [
    "#Customers before, during and after Christmas\n",
    "sns.lineplot(x = pre_holiday[\"Date\"] , y = pre_holiday[\"Customers\"] )\n",
    "sns.lineplot(x = during_holiday[\"Date\"] , y = during_holiday[\"Customers\"] )\n",
    "sns.lineplot(x = post_holiday[\"Date\"] , y = post_holiday[\"Customers\"] )\n",
    "plt.xticks(rotation=90)\n",
    "plt.xlabel('Date', fontsize=18)\n",
    "plt.ylabel('Customers', fontsize=16)\n",
    "plt.title(f'Customers before, during and after Christmas \\n', size=20, fontweight='bold')\n",
    "plt.show()"
   ]
  },
  {
   "cell_type": "markdown",
   "id": "94634793",
   "metadata": {},
   "source": [
    "### Trends of customer behavior during store open and closing times\n"
   ]
  },
  {
   "cell_type": "code",
   "execution_count": null,
   "id": "72124e1e",
   "metadata": {},
   "outputs": [],
   "source": [
    "sns.factorplot(data = train_data_copy, x = 'Month', hue = 'Open',\n",
    "               y = \"Customers\", \n",
    "               col = 'Open')\n",
    " \n",
    "plt.title(f'Customers behavior during store open and closing times \\n\\n ', size=20)       "
   ]
  },
  {
   "cell_type": "markdown",
   "id": "7b1c2193",
   "metadata": {},
   "source": [
    "#### Which stores are opened on all weekdays?"
   ]
  },
  {
   "cell_type": "code",
   "execution_count": null,
   "id": "57a61acd",
   "metadata": {},
   "outputs": [],
   "source": [
    "#customers trends\n",
    "g=sns.factorplot(data = train_store, x = 'Month', y = \"Sales\", hue = 'StoreType',\n",
    "               col = 'StoreType', # per store type in cols\n",
    "               row = 'DayOfWeek', # per day of week in the stores\n",
    "               ) \n",
    "g.set_titles(size=18)\n"
   ]
  },
  {
   "cell_type": "markdown",
   "id": "fc31c13b",
   "metadata": {},
   "source": [
    "- We can see that stores of StoreType C are all closed on Sundays, whereas others are most of the time opened.StoreType D stores are only closed on Sundays from October to December."
   ]
  },
  {
   "cell_type": "markdown",
   "id": "1233bd00",
   "metadata": {},
   "source": [
    "#### Effect of Assorment type on sales"
   ]
  },
  {
   "cell_type": "code",
   "execution_count": null,
   "id": "239e2bab",
   "metadata": {},
   "outputs": [],
   "source": [
    "sns.factorplot(data = train_store, x = 'Month', y = \"Sales\",hue = 'Assortment',\n",
    "               col = 'Assortment') \n",
    "plt.title(\"Effect of Assorment type on sales\\n\\n \", size=20)"
   ]
  },
  {
   "cell_type": "markdown",
   "id": "88d9e056",
   "metadata": {},
   "source": [
    "- Assortment type b has significant sales volume, and  the trend that assortment b use is better than others."
   ]
  },
  {
   "cell_type": "markdown",
   "id": "50fc2f30",
   "metadata": {},
   "source": [
    "#### Effect of promotion on sales and number of customers"
   ]
  },
  {
   "cell_type": "code",
   "execution_count": null,
   "id": "359fcb8a",
   "metadata": {},
   "outputs": [],
   "source": [
    "#promo and sales\n",
    "sns.factorplot(data = train_store, x = 'Month', y = \"Sales\",hue = 'Promo',col = 'Promo') \n",
    "plt.title(f'Effect of promotion on sales\\n\\n ', size=20)"
   ]
  },
  {
   "cell_type": "code",
   "execution_count": null,
   "id": "f36eb79b",
   "metadata": {},
   "outputs": [],
   "source": [
    "#promo and customers\n",
    "sns.factorplot(data = train_store, x = 'Month', y = \"Customers\",hue = 'Promo',col = 'Promo')\n",
    "plt.title(f'Effect of promotion on number of customers\\n\\n ', size=20)"
   ]
  },
  {
   "cell_type": "code",
   "execution_count": null,
   "id": "b8ea15d6",
   "metadata": {},
   "outputs": [],
   "source": [
    "#Could the promos be deployed in more effective ways? Which stores should promos be deployed in?\n",
    "#customers trends\n",
    "sns.factorplot(data = train_store, x = 'Month', y = \"Customers\", \n",
    "               col = 'Promo', # per store type in cols\n",
    "               hue = 'StoreType',\n",
    "               row = 'StoreType', # per promo in the store in rows\n",
    "               ) "
   ]
  },
  {
   "cell_type": "markdown",
   "id": "fbdcfd63",
   "metadata": {},
   "source": [
    "#### Effect of Distance to the next competitor on sales"
   ]
  },
  {
   "cell_type": "code",
   "execution_count": null,
   "id": "17848e97",
   "metadata": {},
   "outputs": [],
   "source": [
    "comp_store = train_store.groupby(\"Store\").agg({'CompetitionDistance':'max','Sales':'sum'})"
   ]
  },
  {
   "cell_type": "code",
   "execution_count": null,
   "id": "d8f2b4ca",
   "metadata": {},
   "outputs": [],
   "source": [
    "sns.lineplot(x = 'CompetitionDistance',y = \"Sales\",\n",
    "             data = comp_store)"
   ]
  },
  {
   "cell_type": "markdown",
   "id": "a51796f1",
   "metadata": {},
   "source": [
    "- The more stores that are in close proximity to each other, the more sales they make.\n",
    "- This suggests that where other stores are within 10 kilometers, sales are higher.\n"
   ]
  },
  {
   "cell_type": "markdown",
   "id": "499721ea",
   "metadata": {},
   "source": [
    "## Prophet\n",
    "- Implements a procedure for forecasting time series data based on an additive model where non-linear trends are fit with yearly, weekly, and daily seasonality, plus holiday effects. It works best with time series that have strong seasonal effects and several seasons of historical data. Prophet is robust to missing data and shifts in the trend, and typically handles outliers well."
   ]
  },
  {
   "cell_type": "code",
   "execution_count": null,
   "id": "c8650bf2",
   "metadata": {},
   "outputs": [],
   "source": [
    "def preprocess_(df):\n",
    "    # remove closed stores and those with no sales\n",
    "    df = df[(df[\"Open\"] != 0) & (df['Sales'] != 0)]\n",
    "\n",
    "    # sales for the store number 1 (StoreType C)\n",
    "    sales = df[df.Store == 1].loc[:, ['Date', 'Sales']]\n",
    "\n",
    "    # reverse to the order: from 2013 to 2015\n",
    "    sales = sales.sort_index(ascending = False)\n",
    "\n",
    "    # to datetime64\n",
    "    sales['Date'] = pd.DatetimeIndex(sales['Date'])\n",
    "    sales = sales.rename(columns = {'Date': 'ds',\n",
    "                                'Sales': 'y'})\n",
    "    # plot daily sales\n",
    "    ax = sales.set_index('ds').plot(figsize = (12, 4), color = \"red\")\n",
    "    ax.set_ylabel('Daily Number of Sales')\n",
    "    ax.set_xlabel('Date')\n",
    "    plt.show()\n",
    "    return sales "
   ]
  },
  {
   "cell_type": "code",
   "execution_count": null,
   "id": "736bc6a1",
   "metadata": {},
   "outputs": [],
   "source": [
    "# modeling holidays\n",
    "def modeling_holiday(df):\n",
    "    # create holidays dataframe\n",
    "    state_dates = df[(df.StateHoliday == 'a') | (df.StateHoliday == 'b') & (df.StateHoliday == 'c')].loc[:, 'Date'].values\n",
    "    school_dates = df[df.SchoolHoliday == 1].loc[:, 'Date'].values\n",
    "\n",
    "    state = pd.DataFrame({'holiday': 'state_holiday',\n",
    "                          'ds': pd.to_datetime(state_dates)})\n",
    "    school = pd.DataFrame({'holiday': 'school_holiday',\n",
    "                          'ds': pd.to_datetime(school_dates)})\n",
    "\n",
    "    holidays = pd.concat((state, school))\n",
    "    return holidays"
   ]
  },
  {
   "cell_type": "code",
   "execution_count": null,
   "id": "394991fa",
   "metadata": {},
   "outputs": [],
   "source": [
    "from fbprophet import Prophet\n",
    "import pickle\n",
    "import datetime\n",
    "from fbprophet.diagnostics import cross_validation\n",
    "from fbprophet.diagnostics import performance_metrics\n",
    "\n",
    "\n",
    "class Fb_prophet:\n",
    "    def __init__(self,train,holidays):\n",
    "        self.future_dates = None\n",
    "        self.forecast = None\n",
    "        \n",
    "        self.model = Prophet(interval_width = 0.95, holidays = holidays)\n",
    "        self.model.fit(train)\n",
    "\n",
    "          # dataframe that extends into future 6 weeks \n",
    "    def getFuture_dates(self,week):\n",
    "        self.future_dates = self.model.make_future_dataframe(periods = int(week)*7)\n",
    "        return self.future_dates\n",
    "    def get_predicate(self):\n",
    "        # predictions\n",
    "        self.forecast = self.model.predict(self.future_dates)\n",
    "       \n",
    "        self.forecast[['ds', 'yhat', 'yhat_lower', 'yhat_upper']]\n",
    "        fc = self.forecast[['ds', 'yhat']].rename(columns = {'ds': 'Date', 'yhat': 'Forecast_Sales'})\n",
    "        \n",
    "        return fc\n",
    "    def eff_modlel(self):\n",
    "        # visualizing predicions\n",
    "        fig1 = self.model.plot(self.forecast)\n",
    "        fig1.savefig('forecastS.png')\n",
    "    def get_components(self):\n",
    "        fig2=self.model.plot_components(self.forecast)\n",
    "        fig2.savefig('forecastComponents.png')\n",
    "    def get_performanceMetrics(self):\n",
    "        cross_validation_results = cross_validation(self.model, initial='370 days', period=3*7, horizon='70 days')\n",
    "        print(cross_validation_results)\n",
    "\n",
    "        performance_metrics_results = performance_metrics(cross_validation_results)\n",
    "        return performance_metrics_results\n",
    "    def save_model(self):\n",
    "        now = datetime.datetime.now().strftime('%d-%m-%Y-%H-%M-%S-%f')[:-3]\n",
    "        # Saving model to disk\n",
    "        filename = now + '.pkl'\n",
    "        pickle.dump(self.model, open(filename, 'wb'))\n",
    "        return filename"
   ]
  },
  {
   "cell_type": "code",
   "execution_count": null,
   "id": "02fec954",
   "metadata": {},
   "outputs": [],
   "source": [
    "\n",
    "sales = preprocess_(train_data)"
   ]
  },
  {
   "cell_type": "code",
   "execution_count": null,
   "id": "a6c8bdad",
   "metadata": {},
   "outputs": [],
   "source": [
    "holidays = modeling_holiday(train_data)"
   ]
  },
  {
   "cell_type": "code",
   "execution_count": null,
   "id": "d23e6c8c",
   "metadata": {},
   "outputs": [],
   "source": [
    "prophet = Fb_prophet(sales,holidays)"
   ]
  },
  {
   "cell_type": "code",
   "execution_count": null,
   "id": "7cddd594",
   "metadata": {},
   "outputs": [],
   "source": [
    "week=3 #no of weeks we want to forcast\n",
    "fd = prophet.getFuture_dates(week)\n",
    "predict =prophet.get_predicate()\n"
   ]
  },
  {
   "cell_type": "code",
   "execution_count": null,
   "id": "b0eb5d1a",
   "metadata": {},
   "outputs": [],
   "source": [
    "sns.lineplot(x=predict['Date'],y=predict['Forecast_Sales'],data=predict)"
   ]
  },
  {
   "cell_type": "code",
   "execution_count": null,
   "id": "315e0e5a",
   "metadata": {},
   "outputs": [],
   "source": [
    "prophet.get_performanceMetrics()\n"
   ]
  },
  {
   "cell_type": "code",
   "execution_count": null,
   "id": "9ffb9589",
   "metadata": {},
   "outputs": [],
   "source": [
    "data_f = pd.DataFrame()\n",
    "start_date= '2016-11-11'\n",
    "end_date= '2016-12-25'\n",
    "data_f['ds'] = pd.date_range(start_date, periods = 48, freq ='D') \n",
    "\n",
    "p = prophet.model.predict(data_f)\n",
    "fc = p[['ds', 'yhat']].rename(columns = {'ds': 'Date', 'yhat': 'Forecast_Sales'})\n",
    "sns.lineplot(x=fc['Date'],y=fc['Forecast_Sales'],data=fc)"
   ]
  },
  {
   "cell_type": "code",
   "execution_count": null,
   "id": "7608ae77",
   "metadata": {},
   "outputs": [],
   "source": [
    "prophet.eff_modlel()\n",
    "filename = prophet.save_model()"
   ]
  },
  {
   "cell_type": "code",
   "execution_count": null,
   "id": "828964c1",
   "metadata": {},
   "outputs": [],
   "source": [
    "prophet.get_components()"
   ]
  },
  {
   "cell_type": "code",
   "execution_count": null,
   "id": "c4d1e0f1",
   "metadata": {},
   "outputs": [],
   "source": []
  },
  {
   "cell_type": "code",
   "execution_count": null,
   "id": "7f10008a",
   "metadata": {},
   "outputs": [],
   "source": []
  },
  {
   "cell_type": "code",
   "execution_count": null,
   "id": "2776661a",
   "metadata": {},
   "outputs": [],
   "source": []
  },
  {
   "cell_type": "code",
   "execution_count": null,
   "id": "ffd3fcd2",
   "metadata": {},
   "outputs": [],
   "source": []
  },
  {
   "cell_type": "code",
   "execution_count": null,
   "id": "cbc5646a",
   "metadata": {},
   "outputs": [],
   "source": []
  },
  {
   "cell_type": "code",
   "execution_count": null,
   "id": "8162c2ca",
   "metadata": {},
   "outputs": [],
   "source": []
  },
  {
   "cell_type": "code",
   "execution_count": null,
   "id": "71057f90",
   "metadata": {},
   "outputs": [],
   "source": []
  },
  {
   "cell_type": "code",
   "execution_count": null,
   "id": "589d1a11",
   "metadata": {},
   "outputs": [],
   "source": []
  },
  {
   "cell_type": "code",
   "execution_count": null,
   "id": "8f198a69",
   "metadata": {},
   "outputs": [],
   "source": []
  },
  {
   "cell_type": "code",
   "execution_count": null,
   "id": "fc0cbf4b",
   "metadata": {},
   "outputs": [],
   "source": []
  },
  {
   "cell_type": "code",
   "execution_count": null,
   "id": "084dae09",
   "metadata": {},
   "outputs": [],
   "source": []
  },
  {
   "cell_type": "code",
   "execution_count": null,
   "id": "5f836681",
   "metadata": {},
   "outputs": [],
   "source": []
  },
  {
   "cell_type": "code",
   "execution_count": null,
   "id": "c5f2da91",
   "metadata": {},
   "outputs": [],
   "source": []
  },
  {
   "cell_type": "code",
   "execution_count": null,
   "id": "4942ab3f",
   "metadata": {},
   "outputs": [],
   "source": []
  },
  {
   "cell_type": "code",
   "execution_count": null,
   "id": "52d44174",
   "metadata": {},
   "outputs": [],
   "source": []
  },
  {
   "cell_type": "code",
   "execution_count": null,
   "id": "dafd9a1e",
   "metadata": {},
   "outputs": [],
   "source": []
  },
  {
   "cell_type": "code",
   "execution_count": null,
   "id": "5e598a32",
   "metadata": {},
   "outputs": [],
   "source": []
  }
 ],
 "metadata": {
  "kernelspec": {
   "display_name": "Python 3",
   "language": "python",
   "name": "python3"
  },
  "language_info": {
   "codemirror_mode": {
    "name": "ipython",
    "version": 3
   },
   "file_extension": ".py",
   "mimetype": "text/x-python",
   "name": "python",
   "nbconvert_exporter": "python",
   "pygments_lexer": "ipython3",
   "version": "3.8.10"
  }
 },
 "nbformat": 4,
 "nbformat_minor": 5
}
